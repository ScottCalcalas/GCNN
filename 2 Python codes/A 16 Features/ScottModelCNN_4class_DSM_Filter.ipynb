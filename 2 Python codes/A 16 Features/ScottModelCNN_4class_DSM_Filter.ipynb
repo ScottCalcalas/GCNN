{
 "cells": [
  {
   "cell_type": "markdown",
   "id": "a0a5345e",
   "metadata": {},
   "source": [
    "## Read data"
   ]
  },
  {
   "cell_type": "code",
   "execution_count": 20,
   "id": "2c054139",
   "metadata": {},
   "outputs": [],
   "source": [
    "import numpy as np"
   ]
  },
  {
   "cell_type": "code",
   "execution_count": 21,
   "id": "149e30ba",
   "metadata": {},
   "outputs": [],
   "source": [
    "def rdnumpy(txtname):\n",
    "    f = open(txtname)\n",
    "    line = f.readlines()\n",
    "    lines = len(line)  # row number\n",
    "    for l in line:\n",
    "        le = l.strip('\\n').split(',')\n",
    "        columns = len(le)-1  # col\n",
    "        #print(le)\n",
    "        #print(columns)\n",
    " \n",
    "    A = np.zeros((lines, columns+1), dtype=np.single)\n",
    "    print(\"read lines:\",lines)\n",
    "    print(\"read columns:\",columns+1)\n",
    "    A_row = 0\n",
    "    for lin in line:\n",
    "        #print(A_row)\n",
    "        list = lin.strip('\\n').split(',')\n",
    "        A[A_row:] = list[0:columns+1]\n",
    "        A_row += 1\n",
    "    return A"
   ]
  },
  {
   "cell_type": "markdown",
   "id": "c5cb8413",
   "metadata": {},
   "source": [
    "# Model begin"
   ]
  },
  {
   "cell_type": "code",
   "execution_count": 22,
   "id": "dac0c242",
   "metadata": {},
   "outputs": [],
   "source": [
    "import numpy as np\n",
    "import torch\n",
    "from torch.utils.data import Dataset,DataLoader\n",
    "from torchvision.transforms import ToTensor, ToPILImage, Lambda\n",
    "import matplotlib.pyplot as plt\n",
    "import os\n",
    "import pandas as pd\n",
    "from PIL import Image\n",
    "import os\n",
    "os.environ[\"KMP_DUPLICATE_LIB_OK\"]=\"TRUE\""
   ]
  },
  {
   "cell_type": "markdown",
   "id": "76b00aac",
   "metadata": {},
   "source": [
    "## set the parameters"
   ]
  },
  {
   "cell_type": "code",
   "execution_count": 23,
   "id": "dbcea213",
   "metadata": {},
   "outputs": [
    {
     "data": {
      "text/plain": [
       "<torch._C.Generator at 0x2360b010410>"
      ]
     },
     "execution_count": 23,
     "metadata": {},
     "output_type": "execute_result"
    }
   ],
   "source": [
    "n_epochs = 3\n",
    "batch_size_train = 16 #32,或者16-由於數據集比較小\n",
    "batch_size_test = 725*4\n",
    "learning_rate = 0.0001 #0.0001\n",
    "momentum = 0.5\n",
    "log_interval = 10\n",
    "random_seed = 1\n",
    "torch.manual_seed(random_seed)"
   ]
  },
  {
   "cell_type": "markdown",
   "id": "108130b9",
   "metadata": {},
   "source": [
    "## data loader"
   ]
  },
  {
   "cell_type": "code",
   "execution_count": 24,
   "id": "be849310",
   "metadata": {},
   "outputs": [],
   "source": [
    "class ScottTrainDataset(Dataset):\n",
    "    def __init__(self, transform=None, target_transform=None):\n",
    "        TrainDataf1=torch.as_tensor(rdnumpy(\"D:\\FYP-HPC\\Data_Python\\CNN_DSMsFilter_16Fea\\MTrainGf1.txt\"))\n",
    "        TrainDataw0=torch.as_tensor(rdnumpy(\"D:\\FYP-HPC\\Data_Python\\CNN_DSMsFilter_16Fea\\MTrainGw0.txt\"))\n",
    "        TrainDatam3=torch.as_tensor(rdnumpy(\"D:\\FYP-HPC\\Data_Python\\CNN_DSMsFilter_16Fea\\MTrainGm3.txt\"))\n",
    "        TrainDataq4=torch.as_tensor(rdnumpy(\"D:\\FYP-HPC\\Data_Python\\CNN_DSMsFilter_16Fea\\MTrainGq4.txt\"))\n",
    "        \n",
    "        self.AllTrainData=torch.cat((TrainDataw0,TrainDataf1,TrainDatam3,TrainDataq4),0)\n",
    "        # 定义transform\n",
    "        self.transform = transform\n",
    "        self.target_transform = target_transform\n",
    " \n",
    "    def __len__(self):\n",
    "        '''返回数据集中的样本数'''\n",
    "        return 1725*4\n",
    " \n",
    "    def __getitem__(self, index):#需要第index個的數據\n",
    "        '''获取数据的方法，会和Dataloader连用'''\n",
    "        i=index;        \n",
    "        startRow=i*8;\n",
    "        enRow=(i+1)*8;\n",
    "        nowData=self.AllTrainData[startRow:enRow,2:18]\n",
    "        \n",
    "        if index>=0 and index<1725:\n",
    "            nowLabel=1\n",
    "        elif index>=1725 and index<1725*2:\n",
    "            nowLabel=0\n",
    "        elif index>=1725*2 and index<1725*3:\n",
    "            nowLabel=3\n",
    "        else:\n",
    "            nowLabel=2 #no 4 here\n",
    "            \n",
    "        if self.transform:\n",
    "            nowData = self.transform(nowData)\n",
    "        if self.target_transform:\n",
    "            nowLabel = self.target_transform(nowLabel)\n",
    "        '''\n",
    "        if nowLabel==0:\n",
    "            nowLabel = torch.FloatTensor([1, 0])\n",
    "        else:\n",
    "            nowLabel = torch.FloatTensor([0, 1])\n",
    "        '''\n",
    "        return nowData, nowLabel#需要返回數據和標簽"
   ]
  },
  {
   "cell_type": "code",
   "execution_count": 25,
   "id": "e72d91db",
   "metadata": {},
   "outputs": [],
   "source": [
    "class ScottTestDataset(Dataset):\n",
    "    def __init__(self, transform=None, target_transform=None):\n",
    "        TestDataf1=torch.as_tensor(rdnumpy(\"D:\\FYP-HPC\\Data_Python\\CNN_DSMsFilter_16Fea\\MTestGf1.txt\"))\n",
    "        TestDataw0=torch.as_tensor(rdnumpy(\"D:\\FYP-HPC\\Data_Python\\CNN_DSMsFilter_16Fea\\MTestGw0.txt\"))\n",
    "        TestDatam3=torch.as_tensor(rdnumpy(\"D:\\FYP-HPC\\Data_Python\\CNN_DSMsFilter_16Fea\\MTestGm3.txt\"))\n",
    "        TestDataq4=torch.as_tensor(rdnumpy(\"D:\\FYP-HPC\\Data_Python\\CNN_DSMsFilter_16Fea\\MTestGq4.txt\"))\n",
    "        \n",
    "        self.AllTrainData=torch.cat((TestDataw0,TestDataf1,TestDatam3,TestDataq4),0)\n",
    "        # 定义transform\n",
    "        self.transform = transform\n",
    "        self.target_transform = target_transform\n",
    " \n",
    "    def __len__(self):\n",
    "        '''返回数据集中的样本数'''\n",
    "        return 725*4\n",
    " \n",
    "    def __getitem__(self, index):#需要第index個的數據\n",
    "        '''获取数据的方法，会和Dataloader连用'''\n",
    "        i=index;        \n",
    "        startRow=i*8;\n",
    "        enRow=(i+1)*8;\n",
    "        nowData=self.AllTrainData[startRow:enRow,2:18]\n",
    "        \n",
    "        if index>=0 and index<725:\n",
    "            nowLabel=1\n",
    "        elif index>=725 and index<725*2:\n",
    "            nowLabel=0\n",
    "        elif index>=725*2 and index<725*3:\n",
    "            nowLabel=3\n",
    "        else:\n",
    "            nowLabel=2 #no 4 here\n",
    "            \n",
    "        if self.transform:\n",
    "            nowData = self.transform(nowData)\n",
    "        if self.target_transform:\n",
    "            nowLabel = self.target_transform(nowLabel)\n",
    "            \n",
    "        '''\n",
    "        if nowLabel==0:\n",
    "            nowLabel = torch.FloatTensor([1, 0])\n",
    "        else:\n",
    "            nowLabel = torch.FloatTensor([0, 1])\n",
    "        '''\n",
    "            \n",
    "        return nowData, nowLabel#需要返回數據和標簽"
   ]
  },
  {
   "cell_type": "code",
   "execution_count": 26,
   "id": "ec9b157e",
   "metadata": {},
   "outputs": [
    {
     "name": "stdout",
     "output_type": "stream",
     "text": [
      "read lines: 13800\n",
      "read columns: 19\n",
      "read lines: 13800\n",
      "read columns: 19\n",
      "read lines: 13800\n",
      "read columns: 19\n",
      "read lines: 13800\n",
      "read columns: 19\n",
      "read lines: 5800\n",
      "read columns: 19\n",
      "read lines: 5800\n",
      "read columns: 19\n",
      "read lines: 5800\n",
      "read columns: 19\n",
      "read lines: 5800\n",
      "read columns: 19\n"
     ]
    }
   ],
   "source": [
    "train_loader = torch.utils.data.DataLoader(ScottTrainDataset(),\n",
    "    batch_size=batch_size_train, shuffle=True)\n",
    "\n",
    "\n",
    "test_loader = torch.utils.data.DataLoader(ScottTestDataset(),\n",
    "    batch_size=batch_size_test, shuffle=True)"
   ]
  },
  {
   "cell_type": "code",
   "execution_count": 27,
   "id": "b21ed523",
   "metadata": {
    "scrolled": true
   },
   "outputs": [],
   "source": [
    "#for batch_idx, (data, target) in enumerate(train_loader):\n",
    "    #print (batch_idx)\n",
    "    #print(data, target)\n",
    "    #print(target)"
   ]
  },
  {
   "cell_type": "markdown",
   "id": "c6f57885",
   "metadata": {},
   "source": [
    "# Net Work"
   ]
  },
  {
   "cell_type": "code",
   "execution_count": null,
   "id": "ae40dca3",
   "metadata": {},
   "outputs": [],
   "source": []
  },
  {
   "cell_type": "code",
   "execution_count": 28,
   "id": "c692b04e",
   "metadata": {},
   "outputs": [],
   "source": [
    "#https://zhuanlan.zhihu.com/p/199624393\n",
    "import torch.nn as nn\n",
    "import torch.nn.functional as F\n",
    "import torch.optim as optim\n",
    "\n",
    "class Net(nn.Module):\n",
    "    def __init__(self):\n",
    "        super(Net, self).__init__()\n",
    "        self.conv1 = nn.Conv2d(1, 20, kernel_size=2, padding=1)\n",
    "        self.conv2 = nn.Conv2d(20,40, kernel_size=2, padding=1)\n",
    "        self.conv2_drop = nn.Dropout2d()\n",
    "        self.fc1 = nn.Linear(320, 60)#60\n",
    "        self.fc2 = nn.Linear(60, 4)\n",
    "    def forward(self, x):\n",
    "        ##print(x)#\n",
    "        #print(x.shape)\n",
    "        x = F.relu(F.max_pool2d(self.conv1(x), 2))\n",
    "        #print(\"relu1:\")\n",
    "        #print(x.shape)\n",
    "        x = F.relu(F.max_pool2d(self.conv2(x), 2))\n",
    "        #print(\"relu2:\")\n",
    "        #print(x.shape)\n",
    "        x = x.view(-1,320)\n",
    "        #print(\"view:\")\n",
    "        #print(x.shape)\n",
    "        x = F.relu(self.fc1(x))\n",
    "        #print(\"relu3:\")\n",
    "        #print(x.shape)\n",
    "        x = F.dropout(x, training=self.training) \n",
    "        #print(\"dropout\")\n",
    "        #print(x.shape)\n",
    "        x = self.fc2(x)\n",
    "        #print(\"FULL con\")\n",
    "        #print(x.shape)\n",
    "        x= F.log_softmax(x, dim=-1)\n",
    "        #print(\"softmax\")\n",
    "        #print(x.shape)\n",
    "        return x\n",
    "        #return F.log_softmax(x, dim=-1)\n",
    "        \n",
    "network = Net()\n",
    "optimizer = optim.Adam(network.parameters(), lr=learning_rate)"
   ]
  },
  {
   "cell_type": "code",
   "execution_count": null,
   "id": "41f34699",
   "metadata": {},
   "outputs": [],
   "source": []
  },
  {
   "cell_type": "code",
   "execution_count": 29,
   "id": "307521a2",
   "metadata": {},
   "outputs": [
    {
     "data": {
      "text/plain": [
       "'\\n#https://zhuanlan.zhihu.com/p/199624393\\nimport torch.nn as nn\\nimport torch.nn.functional as F\\nimport torch.optim as optim\\n\\nclass Net(nn.Module):\\n    def __init__(self):\\n        super(Net, self).__init__()\\n        self.conv1 = nn.Conv2d(1, 10, kernel_size=3, padding=1)\\n        self.conv2 = nn.Conv2d(10,20, kernel_size=3, padding=1)\\n        self.conv2_drop = nn.Dropout2d()\\n        self.fc1 = nn.Linear(40, 30)#15--50-->73\\n        self.fc2 = nn.Linear(30, 4)\\n    def forward(self, x):\\n        #print(x)\\n        #print(x.shape)\\n        x = F.relu(F.max_pool2d(self.conv1(x), 2))\\n        #print(\"relu1:\")\\n        #print(x.shape)\\n        x = F.relu(F.max_pool2d(self.conv2(x), 2))\\n        #print(\"relu2:\")\\n        #print(x.shape)\\n        x = x.view(-1,40)\\n        #print(\"view:\")\\n        #print(x.shape)\\n        x = F.relu(self.fc1(x))\\n        #print(\"relu3:\")\\n        #print(x.shape)\\n        x = F.dropout(x, training=self.training) \\n        #print(\"dropout\")\\n        #print(x.shape)\\n        x = self.fc2(x)\\n        #return x\\n        return F.log_softmax(x, dim=-1)\\nnetwork = Net()\\noptimizer = optim.Adam(network.parameters(), lr=learning_rate)\\n'"
      ]
     },
     "execution_count": 29,
     "metadata": {},
     "output_type": "execute_result"
    }
   ],
   "source": [
    "'''\n",
    "#https://zhuanlan.zhihu.com/p/199624393\n",
    "import torch.nn as nn\n",
    "import torch.nn.functional as F\n",
    "import torch.optim as optim\n",
    "\n",
    "class Net(nn.Module):\n",
    "    def __init__(self):\n",
    "        super(Net, self).__init__()\n",
    "        self.conv1 = nn.Conv2d(1, 10, kernel_size=3, padding=1)\n",
    "        self.conv2 = nn.Conv2d(10,20, kernel_size=3, padding=1)\n",
    "        self.conv2_drop = nn.Dropout2d()\n",
    "        self.fc1 = nn.Linear(40, 30)#15--50-->73\n",
    "        self.fc2 = nn.Linear(30, 4)\n",
    "    def forward(self, x):\n",
    "        #print(x)\n",
    "        #print(x.shape)\n",
    "        x = F.relu(F.max_pool2d(self.conv1(x), 2))\n",
    "        #print(\"relu1:\")\n",
    "        #print(x.shape)\n",
    "        x = F.relu(F.max_pool2d(self.conv2(x), 2))\n",
    "        #print(\"relu2:\")\n",
    "        #print(x.shape)\n",
    "        x = x.view(-1,40)\n",
    "        #print(\"view:\")\n",
    "        #print(x.shape)\n",
    "        x = F.relu(self.fc1(x))\n",
    "        #print(\"relu3:\")\n",
    "        #print(x.shape)\n",
    "        x = F.dropout(x, training=self.training) \n",
    "        #print(\"dropout\")\n",
    "        #print(x.shape)\n",
    "        x = self.fc2(x)\n",
    "        #return x\n",
    "        return F.log_softmax(x, dim=-1)\n",
    "network = Net()\n",
    "optimizer = optim.Adam(network.parameters(), lr=learning_rate)\n",
    "'''"
   ]
  },
  {
   "cell_type": "code",
   "execution_count": 30,
   "id": "a1367ec0",
   "metadata": {},
   "outputs": [
    {
     "data": {
      "text/plain": [
       "'\\n#https://zhuanlan.zhihu.com/p/199624393\\nimport torch.nn as nn\\nimport torch.nn.functional as F\\nimport torch.optim as optim\\n\\nclass Net(nn.Module):\\n    def __init__(self):\\n        super(Net, self).__init__()\\n        self.conv1 = nn.Conv2d(1, 10, kernel_size=2, padding=1)\\n        self.conv2 = nn.Conv2d(10,30, kernel_size=2, padding=1)\\n        self.conv2_drop = nn.Dropout2d()\\n        self.fc1 = nn.Linear(120, 40)#(120, 40)##60--15-->72%\\n        self.fc2 = nn.Linear(40, 4)#(40, 4)\\n    def forward(self, x):\\n        #print(x)#\\n        #print(x.shape)\\n        x = F.relu(F.max_pool2d(self.conv1(x), 2))\\n        #print(\"relu1:\")\\n        #print(x.shape)\\n        x = F.relu(F.max_pool2d(self.conv2(x), 2))\\n        #print(\"relu2:\")\\n        #print(x.shape)\\n        x = x.view(-1,120)\\n        #print(\"view:\")\\n        #print(x.shape)\\n        x = F.relu(self.fc1(x))\\n        #print(\"relu3:\")\\n        #print(x.shape)\\n        x = F.dropout(x, training=self.training) \\n        #print(\"dropout\")\\n        #print(x.shape)\\n        x = self.fc2(x)\\n        #return x\\n        return F.log_softmax(x, dim=-1)\\nnetwork = Net()\\noptimizer = optim.Adam(network.parameters(), lr=learning_rate)\\n'"
      ]
     },
     "execution_count": 30,
     "metadata": {},
     "output_type": "execute_result"
    }
   ],
   "source": [
    "'''\n",
    "#https://zhuanlan.zhihu.com/p/199624393\n",
    "import torch.nn as nn\n",
    "import torch.nn.functional as F\n",
    "import torch.optim as optim\n",
    "\n",
    "class Net(nn.Module):\n",
    "    def __init__(self):\n",
    "        super(Net, self).__init__()\n",
    "        self.conv1 = nn.Conv2d(1, 10, kernel_size=2, padding=1)\n",
    "        self.conv2 = nn.Conv2d(10,30, kernel_size=2, padding=1)\n",
    "        self.conv2_drop = nn.Dropout2d()\n",
    "        self.fc1 = nn.Linear(120, 40)#(120, 40)##60--15-->72%\n",
    "        self.fc2 = nn.Linear(40, 4)#(40, 4)\n",
    "    def forward(self, x):\n",
    "        #print(x)#\n",
    "        #print(x.shape)\n",
    "        x = F.relu(F.max_pool2d(self.conv1(x), 2))\n",
    "        #print(\"relu1:\")\n",
    "        #print(x.shape)\n",
    "        x = F.relu(F.max_pool2d(self.conv2(x), 2))\n",
    "        #print(\"relu2:\")\n",
    "        #print(x.shape)\n",
    "        x = x.view(-1,120)\n",
    "        #print(\"view:\")\n",
    "        #print(x.shape)\n",
    "        x = F.relu(self.fc1(x))\n",
    "        #print(\"relu3:\")\n",
    "        #print(x.shape)\n",
    "        x = F.dropout(x, training=self.training) \n",
    "        #print(\"dropout\")\n",
    "        #print(x.shape)\n",
    "        x = self.fc2(x)\n",
    "        #return x\n",
    "        return F.log_softmax(x, dim=-1)\n",
    "network = Net()\n",
    "optimizer = optim.Adam(network.parameters(), lr=learning_rate)\n",
    "'''"
   ]
  },
  {
   "cell_type": "markdown",
   "id": "08b6ad71",
   "metadata": {},
   "source": [
    "# Train"
   ]
  },
  {
   "cell_type": "code",
   "execution_count": 31,
   "id": "082dbd70",
   "metadata": {
    "scrolled": true
   },
   "outputs": [
    {
     "name": "stdout",
     "output_type": "stream",
     "text": [
      "Train Epoch: 0 [0/6900 (0%)]\tLoss: 2.319180\n",
      "Train Epoch: 0 [160/6900 (2%)]\tLoss: 6.260388\n",
      "Train Epoch: 0 [320/6900 (5%)]\tLoss: 10.396516\n",
      "Train Epoch: 0 [480/6900 (7%)]\tLoss: 1.268615\n",
      "Train Epoch: 0 [640/6900 (9%)]\tLoss: 1.742735\n",
      "Train Epoch: 0 [800/6900 (12%)]\tLoss: 1.277386\n",
      "Train Epoch: 0 [960/6900 (14%)]\tLoss: 1.223373\n",
      "Train Epoch: 0 [1120/6900 (16%)]\tLoss: 1.559845\n",
      "Train Epoch: 0 [1280/6900 (19%)]\tLoss: 1.938382\n",
      "Train Epoch: 0 [1440/6900 (21%)]\tLoss: 1.267697\n",
      "Train Epoch: 0 [1600/6900 (23%)]\tLoss: 0.858735\n",
      "Train Epoch: 0 [1760/6900 (25%)]\tLoss: 0.930938\n",
      "Train Epoch: 0 [1920/6900 (28%)]\tLoss: 2.344129\n",
      "Train Epoch: 0 [2080/6900 (30%)]\tLoss: 0.832140\n",
      "Train Epoch: 0 [2240/6900 (32%)]\tLoss: 0.896727\n",
      "Train Epoch: 0 [2400/6900 (35%)]\tLoss: 1.182475\n",
      "Train Epoch: 0 [2560/6900 (37%)]\tLoss: 0.697249\n",
      "Train Epoch: 0 [2720/6900 (39%)]\tLoss: 0.873006\n",
      "Train Epoch: 0 [2880/6900 (42%)]\tLoss: 2.207484\n",
      "Train Epoch: 0 [3040/6900 (44%)]\tLoss: 0.996118\n",
      "Train Epoch: 0 [3200/6900 (46%)]\tLoss: 0.925440\n",
      "Train Epoch: 0 [3360/6900 (49%)]\tLoss: 1.516638\n",
      "Train Epoch: 0 [3520/6900 (51%)]\tLoss: 0.769796\n",
      "Train Epoch: 0 [3680/6900 (53%)]\tLoss: 0.870619\n",
      "Train Epoch: 0 [3840/6900 (56%)]\tLoss: 0.840277\n",
      "Train Epoch: 0 [4000/6900 (58%)]\tLoss: 0.523072\n",
      "Train Epoch: 0 [4160/6900 (60%)]\tLoss: 1.315779\n",
      "Train Epoch: 0 [4320/6900 (62%)]\tLoss: 1.168361\n",
      "Train Epoch: 0 [4480/6900 (65%)]\tLoss: 1.064258\n",
      "Train Epoch: 0 [4640/6900 (67%)]\tLoss: 1.123723\n",
      "Train Epoch: 0 [4800/6900 (69%)]\tLoss: 0.787730\n",
      "Train Epoch: 0 [4960/6900 (72%)]\tLoss: 0.749264\n",
      "Train Epoch: 0 [5120/6900 (74%)]\tLoss: 0.738750\n",
      "Train Epoch: 0 [5280/6900 (76%)]\tLoss: 0.828842\n",
      "Train Epoch: 0 [5440/6900 (79%)]\tLoss: 0.903739\n",
      "Train Epoch: 0 [5600/6900 (81%)]\tLoss: 0.755681\n",
      "Train Epoch: 0 [5760/6900 (83%)]\tLoss: 0.559543\n",
      "Train Epoch: 0 [5920/6900 (86%)]\tLoss: 0.645775\n",
      "Train Epoch: 0 [6080/6900 (88%)]\tLoss: 0.534132\n",
      "Train Epoch: 0 [6240/6900 (90%)]\tLoss: 0.439033\n",
      "Train Epoch: 0 [6400/6900 (93%)]\tLoss: 0.558083\n",
      "Train Epoch: 0 [6560/6900 (95%)]\tLoss: 0.708166\n",
      "Train Epoch: 0 [6720/6900 (97%)]\tLoss: 0.937513\n",
      "Train Epoch: 0 [6880/6900 (100%)]\tLoss: 0.719806\n",
      "Train Epoch: 1 [0/6900 (0%)]\tLoss: 0.595512\n",
      "Train Epoch: 1 [160/6900 (2%)]\tLoss: 0.537763\n",
      "Train Epoch: 1 [320/6900 (5%)]\tLoss: 0.444143\n",
      "Train Epoch: 1 [480/6900 (7%)]\tLoss: 0.969471\n",
      "Train Epoch: 1 [640/6900 (9%)]\tLoss: 0.485341\n",
      "Train Epoch: 1 [800/6900 (12%)]\tLoss: 0.901082\n",
      "Train Epoch: 1 [960/6900 (14%)]\tLoss: 0.533489\n",
      "Train Epoch: 1 [1120/6900 (16%)]\tLoss: 0.670664\n",
      "Train Epoch: 1 [1280/6900 (19%)]\tLoss: 0.731116\n",
      "Train Epoch: 1 [1440/6900 (21%)]\tLoss: 0.739726\n",
      "Train Epoch: 1 [1600/6900 (23%)]\tLoss: 0.562951\n",
      "Train Epoch: 1 [1760/6900 (25%)]\tLoss: 0.768345\n",
      "Train Epoch: 1 [1920/6900 (28%)]\tLoss: 0.897948\n",
      "Train Epoch: 1 [2080/6900 (30%)]\tLoss: 0.623349\n",
      "Train Epoch: 1 [2240/6900 (32%)]\tLoss: 0.630328\n",
      "Train Epoch: 1 [2400/6900 (35%)]\tLoss: 0.779752\n",
      "Train Epoch: 1 [2560/6900 (37%)]\tLoss: 0.563604\n",
      "Train Epoch: 1 [2720/6900 (39%)]\tLoss: 0.479022\n",
      "Train Epoch: 1 [2880/6900 (42%)]\tLoss: 0.711200\n",
      "Train Epoch: 1 [3040/6900 (44%)]\tLoss: 0.403591\n",
      "Train Epoch: 1 [3200/6900 (46%)]\tLoss: 0.495509\n",
      "Train Epoch: 1 [3360/6900 (49%)]\tLoss: 0.654158\n",
      "Train Epoch: 1 [3520/6900 (51%)]\tLoss: 0.670068\n",
      "Train Epoch: 1 [3680/6900 (53%)]\tLoss: 0.676614\n",
      "Train Epoch: 1 [3840/6900 (56%)]\tLoss: 0.820486\n",
      "Train Epoch: 1 [4000/6900 (58%)]\tLoss: 0.456439\n",
      "Train Epoch: 1 [4160/6900 (60%)]\tLoss: 0.872413\n",
      "Train Epoch: 1 [4320/6900 (62%)]\tLoss: 0.581471\n",
      "Train Epoch: 1 [4480/6900 (65%)]\tLoss: 0.579972\n",
      "Train Epoch: 1 [4640/6900 (67%)]\tLoss: 0.866279\n",
      "Train Epoch: 1 [4800/6900 (69%)]\tLoss: 0.650894\n",
      "Train Epoch: 1 [4960/6900 (72%)]\tLoss: 0.577692\n",
      "Train Epoch: 1 [5120/6900 (74%)]\tLoss: 0.549934\n",
      "Train Epoch: 1 [5280/6900 (76%)]\tLoss: 0.647098\n",
      "Train Epoch: 1 [5440/6900 (79%)]\tLoss: 0.500242\n",
      "Train Epoch: 1 [5600/6900 (81%)]\tLoss: 0.399473\n",
      "Train Epoch: 1 [5760/6900 (83%)]\tLoss: 0.543788\n",
      "Train Epoch: 1 [5920/6900 (86%)]\tLoss: 0.460284\n",
      "Train Epoch: 1 [6080/6900 (88%)]\tLoss: 0.567833\n",
      "Train Epoch: 1 [6240/6900 (90%)]\tLoss: 0.623945\n",
      "Train Epoch: 1 [6400/6900 (93%)]\tLoss: 0.346988\n",
      "Train Epoch: 1 [6560/6900 (95%)]\tLoss: 0.633077\n",
      "Train Epoch: 1 [6720/6900 (97%)]\tLoss: 0.395795\n",
      "Train Epoch: 1 [6880/6900 (100%)]\tLoss: 0.508452\n",
      "Train Epoch: 2 [0/6900 (0%)]\tLoss: 0.396547\n",
      "Train Epoch: 2 [160/6900 (2%)]\tLoss: 0.923530\n",
      "Train Epoch: 2 [320/6900 (5%)]\tLoss: 0.751790\n",
      "Train Epoch: 2 [480/6900 (7%)]\tLoss: 0.619518\n",
      "Train Epoch: 2 [640/6900 (9%)]\tLoss: 0.637001\n",
      "Train Epoch: 2 [800/6900 (12%)]\tLoss: 0.575557\n",
      "Train Epoch: 2 [960/6900 (14%)]\tLoss: 0.442582\n",
      "Train Epoch: 2 [1120/6900 (16%)]\tLoss: 0.860133\n",
      "Train Epoch: 2 [1280/6900 (19%)]\tLoss: 0.329754\n",
      "Train Epoch: 2 [1440/6900 (21%)]\tLoss: 0.697219\n",
      "Train Epoch: 2 [1600/6900 (23%)]\tLoss: 0.811440\n",
      "Train Epoch: 2 [1760/6900 (25%)]\tLoss: 0.521904\n",
      "Train Epoch: 2 [1920/6900 (28%)]\tLoss: 0.535039\n",
      "Train Epoch: 2 [2080/6900 (30%)]\tLoss: 0.766592\n",
      "Train Epoch: 2 [2240/6900 (32%)]\tLoss: 0.386690\n",
      "Train Epoch: 2 [2400/6900 (35%)]\tLoss: 0.728017\n",
      "Train Epoch: 2 [2560/6900 (37%)]\tLoss: 0.647393\n",
      "Train Epoch: 2 [2720/6900 (39%)]\tLoss: 0.407462\n",
      "Train Epoch: 2 [2880/6900 (42%)]\tLoss: 0.609809\n",
      "Train Epoch: 2 [3040/6900 (44%)]\tLoss: 0.398899\n",
      "Train Epoch: 2 [3200/6900 (46%)]\tLoss: 0.255119\n",
      "Train Epoch: 2 [3360/6900 (49%)]\tLoss: 0.774817\n",
      "Train Epoch: 2 [3520/6900 (51%)]\tLoss: 0.410186\n",
      "Train Epoch: 2 [3680/6900 (53%)]\tLoss: 0.381673\n",
      "Train Epoch: 2 [3840/6900 (56%)]\tLoss: 0.784781\n",
      "Train Epoch: 2 [4000/6900 (58%)]\tLoss: 0.564219\n",
      "Train Epoch: 2 [4160/6900 (60%)]\tLoss: 0.336746\n",
      "Train Epoch: 2 [4320/6900 (62%)]\tLoss: 0.409082\n",
      "Train Epoch: 2 [4480/6900 (65%)]\tLoss: 0.580545\n",
      "Train Epoch: 2 [4640/6900 (67%)]\tLoss: 0.363630\n",
      "Train Epoch: 2 [4800/6900 (69%)]\tLoss: 0.459408\n",
      "Train Epoch: 2 [4960/6900 (72%)]\tLoss: 0.347864\n",
      "Train Epoch: 2 [5120/6900 (74%)]\tLoss: 0.416445\n",
      "Train Epoch: 2 [5280/6900 (76%)]\tLoss: 0.726606\n",
      "Train Epoch: 2 [5440/6900 (79%)]\tLoss: 0.362103\n",
      "Train Epoch: 2 [5600/6900 (81%)]\tLoss: 0.350769\n",
      "Train Epoch: 2 [5760/6900 (83%)]\tLoss: 0.934848\n",
      "Train Epoch: 2 [5920/6900 (86%)]\tLoss: 0.868129\n",
      "Train Epoch: 2 [6080/6900 (88%)]\tLoss: 0.705184\n",
      "Train Epoch: 2 [6240/6900 (90%)]\tLoss: 0.520393\n",
      "Train Epoch: 2 [6400/6900 (93%)]\tLoss: 0.658849\n",
      "Train Epoch: 2 [6560/6900 (95%)]\tLoss: 0.333521\n",
      "Train Epoch: 2 [6720/6900 (97%)]\tLoss: 0.579085\n",
      "Train Epoch: 2 [6880/6900 (100%)]\tLoss: 0.602597\n",
      "Train Epoch: 3 [0/6900 (0%)]\tLoss: 0.323494\n",
      "Train Epoch: 3 [160/6900 (2%)]\tLoss: 0.380795\n",
      "Train Epoch: 3 [320/6900 (5%)]\tLoss: 0.311292\n",
      "Train Epoch: 3 [480/6900 (7%)]\tLoss: 0.375632\n",
      "Train Epoch: 3 [640/6900 (9%)]\tLoss: 0.349515\n",
      "Train Epoch: 3 [800/6900 (12%)]\tLoss: 0.529423\n",
      "Train Epoch: 3 [960/6900 (14%)]\tLoss: 0.934862\n",
      "Train Epoch: 3 [1120/6900 (16%)]\tLoss: 0.627077\n",
      "Train Epoch: 3 [1280/6900 (19%)]\tLoss: 0.512767\n",
      "Train Epoch: 3 [1440/6900 (21%)]\tLoss: 0.428751\n",
      "Train Epoch: 3 [1600/6900 (23%)]\tLoss: 0.678588\n",
      "Train Epoch: 3 [1760/6900 (25%)]\tLoss: 0.424198\n",
      "Train Epoch: 3 [1920/6900 (28%)]\tLoss: 0.230126\n",
      "Train Epoch: 3 [2080/6900 (30%)]\tLoss: 0.695575\n",
      "Train Epoch: 3 [2240/6900 (32%)]\tLoss: 0.406525\n",
      "Train Epoch: 3 [2400/6900 (35%)]\tLoss: 0.647147\n",
      "Train Epoch: 3 [2560/6900 (37%)]\tLoss: 0.563904\n",
      "Train Epoch: 3 [2720/6900 (39%)]\tLoss: 0.362101\n",
      "Train Epoch: 3 [2880/6900 (42%)]\tLoss: 0.394511\n",
      "Train Epoch: 3 [3040/6900 (44%)]\tLoss: 0.273715\n",
      "Train Epoch: 3 [3200/6900 (46%)]\tLoss: 0.274392\n",
      "Train Epoch: 3 [3360/6900 (49%)]\tLoss: 0.322844\n",
      "Train Epoch: 3 [3520/6900 (51%)]\tLoss: 0.653039\n",
      "Train Epoch: 3 [3680/6900 (53%)]\tLoss: 0.402492\n",
      "Train Epoch: 3 [3840/6900 (56%)]\tLoss: 0.942978\n",
      "Train Epoch: 3 [4000/6900 (58%)]\tLoss: 0.422435\n",
      "Train Epoch: 3 [4160/6900 (60%)]\tLoss: 0.782070\n",
      "Train Epoch: 3 [4320/6900 (62%)]\tLoss: 0.453687\n",
      "Train Epoch: 3 [4480/6900 (65%)]\tLoss: 0.270969\n",
      "Train Epoch: 3 [4640/6900 (67%)]\tLoss: 0.207385\n",
      "Train Epoch: 3 [4800/6900 (69%)]\tLoss: 0.219768\n",
      "Train Epoch: 3 [4960/6900 (72%)]\tLoss: 0.448661\n",
      "Train Epoch: 3 [5120/6900 (74%)]\tLoss: 0.423659\n",
      "Train Epoch: 3 [5280/6900 (76%)]\tLoss: 0.220913\n",
      "Train Epoch: 3 [5440/6900 (79%)]\tLoss: 0.884457\n",
      "Train Epoch: 3 [5600/6900 (81%)]\tLoss: 0.500861\n",
      "Train Epoch: 3 [5760/6900 (83%)]\tLoss: 0.460150\n",
      "Train Epoch: 3 [5920/6900 (86%)]\tLoss: 0.344607\n",
      "Train Epoch: 3 [6080/6900 (88%)]\tLoss: 0.404547\n",
      "Train Epoch: 3 [6240/6900 (90%)]\tLoss: 0.317670\n",
      "Train Epoch: 3 [6400/6900 (93%)]\tLoss: 0.220465\n",
      "Train Epoch: 3 [6560/6900 (95%)]\tLoss: 0.634961\n"
     ]
    },
    {
     "name": "stdout",
     "output_type": "stream",
     "text": [
      "Train Epoch: 3 [6720/6900 (97%)]\tLoss: 0.422173\n",
      "Train Epoch: 3 [6880/6900 (100%)]\tLoss: 0.313398\n",
      "Train Epoch: 4 [0/6900 (0%)]\tLoss: 0.278009\n",
      "Train Epoch: 4 [160/6900 (2%)]\tLoss: 0.560729\n",
      "Train Epoch: 4 [320/6900 (5%)]\tLoss: 0.220670\n",
      "Train Epoch: 4 [480/6900 (7%)]\tLoss: 0.231545\n",
      "Train Epoch: 4 [640/6900 (9%)]\tLoss: 0.337252\n",
      "Train Epoch: 4 [800/6900 (12%)]\tLoss: 0.282939\n",
      "Train Epoch: 4 [960/6900 (14%)]\tLoss: 0.537809\n",
      "Train Epoch: 4 [1120/6900 (16%)]\tLoss: 0.398996\n",
      "Train Epoch: 4 [1280/6900 (19%)]\tLoss: 0.290039\n",
      "Train Epoch: 4 [1440/6900 (21%)]\tLoss: 0.297904\n",
      "Train Epoch: 4 [1600/6900 (23%)]\tLoss: 0.584106\n",
      "Train Epoch: 4 [1760/6900 (25%)]\tLoss: 0.292783\n",
      "Train Epoch: 4 [1920/6900 (28%)]\tLoss: 0.386544\n",
      "Train Epoch: 4 [2080/6900 (30%)]\tLoss: 0.384636\n",
      "Train Epoch: 4 [2240/6900 (32%)]\tLoss: 0.197710\n",
      "Train Epoch: 4 [2400/6900 (35%)]\tLoss: 0.331754\n",
      "Train Epoch: 4 [2560/6900 (37%)]\tLoss: 0.567733\n",
      "Train Epoch: 4 [2720/6900 (39%)]\tLoss: 1.272596\n",
      "Train Epoch: 4 [2880/6900 (42%)]\tLoss: 0.401455\n",
      "Train Epoch: 4 [3040/6900 (44%)]\tLoss: 0.222305\n",
      "Train Epoch: 4 [3200/6900 (46%)]\tLoss: 0.082307\n",
      "Train Epoch: 4 [3360/6900 (49%)]\tLoss: 0.358510\n",
      "Train Epoch: 4 [3520/6900 (51%)]\tLoss: 0.297630\n",
      "Train Epoch: 4 [3680/6900 (53%)]\tLoss: 0.312245\n",
      "Train Epoch: 4 [3840/6900 (56%)]\tLoss: 0.395214\n",
      "Train Epoch: 4 [4000/6900 (58%)]\tLoss: 0.331339\n",
      "Train Epoch: 4 [4160/6900 (60%)]\tLoss: 0.230641\n",
      "Train Epoch: 4 [4320/6900 (62%)]\tLoss: 0.248659\n",
      "Train Epoch: 4 [4480/6900 (65%)]\tLoss: 0.284315\n",
      "Train Epoch: 4 [4640/6900 (67%)]\tLoss: 0.147533\n",
      "Train Epoch: 4 [4800/6900 (69%)]\tLoss: 0.239157\n",
      "Train Epoch: 4 [4960/6900 (72%)]\tLoss: 0.995066\n",
      "Train Epoch: 4 [5120/6900 (74%)]\tLoss: 0.395563\n",
      "Train Epoch: 4 [5280/6900 (76%)]\tLoss: 0.455507\n",
      "Train Epoch: 4 [5440/6900 (79%)]\tLoss: 0.416028\n",
      "Train Epoch: 4 [5600/6900 (81%)]\tLoss: 0.389449\n",
      "Train Epoch: 4 [5760/6900 (83%)]\tLoss: 0.281733\n",
      "Train Epoch: 4 [5920/6900 (86%)]\tLoss: 1.511346\n",
      "Train Epoch: 4 [6080/6900 (88%)]\tLoss: 0.248263\n",
      "Train Epoch: 4 [6240/6900 (90%)]\tLoss: 0.240032\n",
      "Train Epoch: 4 [6400/6900 (93%)]\tLoss: 0.379059\n",
      "Train Epoch: 4 [6560/6900 (95%)]\tLoss: 0.372715\n",
      "Train Epoch: 4 [6720/6900 (97%)]\tLoss: 0.310533\n",
      "Train Epoch: 4 [6880/6900 (100%)]\tLoss: 0.314628\n"
     ]
    }
   ],
   "source": [
    "\n",
    "train_losses = []\n",
    "train_counter = []\n",
    "\n",
    "def train(epoch):\n",
    "  for _ in range(epoch):\n",
    "      network.train()\n",
    "      for batch_idx, (data, target) in enumerate(train_loader):\n",
    "        if batch_idx>1920 and batch_idx<1920+320: continue\n",
    "        optimizer.zero_grad()\n",
    "        data = data.unsqueeze(1)\n",
    "        output = network(data)\n",
    "        #print(target.shape, target, output)\n",
    "        #assert 1==0\n",
    "        # loss = F.binary_cross_entropy_with_logits(output, target)\n",
    "        loss = F.nll_loss(output, target)\n",
    "        loss.backward()\n",
    "        optimizer.step()\n",
    "\n",
    "        if batch_idx % log_interval == 0:\n",
    "          #print(torch.isnan(data).sum(), target.shape, target, output)\n",
    "          print('Train Epoch: {} [{}/{} ({:.0f}%)]\\tLoss: {:.6f}'.format(\n",
    "            _, batch_idx * len(data), len(train_loader.dataset),\n",
    "            100. * batch_idx / len(train_loader), loss.item()))\n",
    "          train_losses.append(loss.item())\n",
    "          train_counter.append(\n",
    "            (batch_idx*64) + ((epoch-1)*len(train_loader.dataset)))\n",
    "          torch.save(network.state_dict(), './model.pth')\n",
    "          torch.save(optimizer.state_dict(), './optimizer.pth')\n",
    "    \n",
    "train(5) \n"
   ]
  },
  {
   "cell_type": "code",
   "execution_count": 32,
   "id": "112e1862",
   "metadata": {
    "scrolled": true
   },
   "outputs": [
    {
     "data": {
      "image/png": "[encoded data removed]",
      "text/plain": [
       "<Figure size 432x288 with 1 Axes>"
      ]
     },
     "metadata": {},
     "output_type": "display_data"
    }
   ],
   "source": [
    "import os\n",
    "os.environ[\"KMP_DUPLICATE_LIB_OK\"]=\"TRUE\"\n",
    "import matplotlib.pyplot as plt\n",
    "\n",
    "plt.plot(list(range(len(train_losses))), train_losses)\n",
    "plt.savefig(\"Loss.png\", dpi=1080)\n",
    "plt.show()\n"
   ]
  },
  {
   "cell_type": "code",
   "execution_count": 33,
   "id": "b2ac4613",
   "metadata": {},
   "outputs": [],
   "source": [
    "\n",
    "test_counter = [i*len(train_loader.dataset) for i in range(n_epochs + 1)]          \n"
   ]
  },
  {
   "cell_type": "markdown",
   "id": "65c0a8e7",
   "metadata": {},
   "source": []
  },
  {
   "cell_type": "code",
   "execution_count": null,
   "id": "99590466",
   "metadata": {
    "scrolled": true
   },
   "outputs": [],
   "source": []
  },
  {
   "cell_type": "code",
   "execution_count": null,
   "id": "a887d967",
   "metadata": {
    "scrolled": true
   },
   "outputs": [],
   "source": []
  },
  {
   "cell_type": "code",
   "execution_count": 34,
   "id": "0d787ce2",
   "metadata": {},
   "outputs": [
    {
     "name": "stdout",
     "output_type": "stream",
     "text": [
      "\n",
      "Test set: Avg. loss: 0.6344, Accuracy: 2408/2900 (83%)\n",
      "\n"
     ]
    },
    {
     "name": "stderr",
     "output_type": "stream",
     "text": [
      "C:\\Users\\PCI\\anaconda3\\lib\\site-packages\\torch\\nn\\_reduction.py:42: UserWarning: size_average and reduce args will be deprecated, please use reduction='sum' instead.\n",
      "  warnings.warn(warning.format(ret))\n"
     ]
    }
   ],
   "source": [
    "  import scipy.io as io\n",
    "  test_losses = []\n",
    "  test_counter = [i*len(train_loader.dataset) for i in range(n_epochs + 1)]\n",
    "  network.eval()\n",
    "  test_loss = 0\n",
    "  correct = 0\n",
    "  with torch.no_grad():\n",
    "    for data, target in test_loader:\n",
    "      data = data.unsqueeze(1)\n",
    "      #print(\"data:\")\n",
    "      #print(data.shape)\n",
    "      output = network(data)\n",
    "      #print(\"output:\")\n",
    "      #print(output.shape)\n",
    "      \n",
    "      test_loss += F.nll_loss(output, target, size_average=False).item()\n",
    "      #print(output)\n",
    "      pred = output.data.max(1, keepdim=True)[1]\n",
    "      #print(pred)##\n",
    "      #print(target)\n",
    "      result1 = np.array(pred)\n",
    "      np.savetxt('pred.txt',result1)\n",
    "      result2 = np.array(target)\n",
    "      np.savetxt('target.txt',result2)\n",
    "      \n",
    "      #Save done\n",
    "      correct += pred.eq(target.data.view_as(pred)).sum()\n",
    "      \n",
    "  test_loss /= len(test_loader.dataset)\n",
    "  test_losses.append(test_loss)\n",
    "  print('\\nTest set: Avg. loss: {:.4f}, Accuracy: {}/{} ({:.0f}%)\\n'.format(\n",
    "    test_loss, correct, len(test_loader.dataset),\n",
    "    100. * correct / len(test_loader.dataset)))"
   ]
  },
  {
   "cell_type": "code",
   "execution_count": 35,
   "id": "8033bab0",
   "metadata": {},
   "outputs": [
    {
     "data": {
      "text/plain": [
       "\"\\nfor epoch in range(1, n_epochs + 1):\\n  train(epoch)\\n  test()\\nimport matplotlib.pyplot as plt\\nfig = plt.figure()\\nplt.plot(train_counter, train_losses, color='blue')\\nplt.scatter(test_counter, test_losses, color='red')\\nplt.legend(['Train Loss', 'Test Loss'], loc='upper right')\\nplt.xlabel('number of training examples seen')\\nplt.ylabel('negative log likelihood loss')\\nplt.show()\\n\""
      ]
     },
     "execution_count": 35,
     "metadata": {},
     "output_type": "execute_result"
    }
   ],
   "source": [
    "'''\n",
    "for epoch in range(1, n_epochs + 1):\n",
    "  train(epoch)\n",
    "  test()\n",
    "import matplotlib.pyplot as plt\n",
    "fig = plt.figure()\n",
    "plt.plot(train_counter, train_losses, color='blue')\n",
    "plt.scatter(test_counter, test_losses, color='red')\n",
    "plt.legend(['Train Loss', 'Test Loss'], loc='upper right')\n",
    "plt.xlabel('number of training examples seen')\n",
    "plt.ylabel('negative log likelihood loss')\n",
    "plt.show()\n",
    "'''"
   ]
  },
  {
   "cell_type": "code",
   "execution_count": 36,
   "id": "8837deba",
   "metadata": {},
   "outputs": [
    {
     "name": "stdout",
     "output_type": "stream",
     "text": [
      "[[378   6 326  15]\n",
      " [  0 686  37   2]\n",
      " [ 31   2 638  54]\n",
      " [  6   0  13 706]]\n"
     ]
    },
    {
     "data": {
      "text/plain": [
       "[Text(0, 0.5, 'Normal'),\n",
       " Text(0, 1.5, 'Acute'),\n",
       " Text(0, 2.5, 'Chronic'),\n",
       " Text(0, 3.5, 'Pre-seizure')]"
      ]
     },
     "execution_count": 36,
     "metadata": {},
     "output_type": "execute_result"
    },
    {
     "data": {
      "image/png": "[encoded data removed]",
      "text/plain": [
       "<Figure size 432x288 with 2 Axes>"
      ]
     },
     "metadata": {},
     "output_type": "display_data"
    }
   ],
   "source": [
    "import seaborn as sns\n",
    "from sklearn.metrics import confusion_matrix\n",
    "import matplotlib.pyplot as plt\n",
    "\n",
    "sns.set()\n",
    "f,ax = plt.subplots()\n",
    "y_true =(target)\n",
    "y_pred = (pred)\n",
    "C2 = confusion_matrix(y_true,y_pred,labels=[0,1,2,3])\n",
    "#打印 C2\n",
    "print(C2)\n",
    "a=sns.heatmap(C2,annot=True,ax=ax, cmap = 'Blues', fmt='g') #画热力图  , cbar = None\n",
    "\n",
    "ax.set_title('Confusion Matrix') #标题\n",
    "ax.set_xlabel('Predict') #x 轴\n",
    "ax.set_ylabel('True') #y 轴\n",
    "\n",
    "\n",
    "#Normal, Acute, Chronic, Pre-seizure\n",
    "a.set_xticklabels(['Normal','Acute','Chronic','Pre-seizure'])\n",
    "a.set_yticklabels(['Normal','Acute','Chronic','Pre-seizure'])\n"
   ]
  },
  {
   "cell_type": "code",
   "execution_count": 37,
   "id": "50cb0e4c",
   "metadata": {},
   "outputs": [
    {
     "name": "stdout",
     "output_type": "stream",
     "text": [
      "0.8259677257491832\n",
      "0.8259677257491833\n"
     ]
    }
   ],
   "source": [
    "from sklearn.metrics import f1_score\n",
    " \n",
    "y_true = target\n",
    "y_pred = pred\n",
    " \n",
    "print(f1_score(y_true, y_pred, average='weighted'))# unbalance F1\n",
    "print(f1_score(y_true, y_pred, average='macro'))"
   ]
  },
  {
   "cell_type": "code",
   "execution_count": null,
   "id": "0205d9b6",
   "metadata": {},
   "outputs": [],
   "source": []
  },
  {
   "cell_type": "code",
   "execution_count": 38,
   "id": "a65a96ac",
   "metadata": {},
   "outputs": [
    {
     "name": "stdout",
     "output_type": "stream",
     "text": [
      "[[52.14  0.83 44.97  2.07]\n",
      " [ 0.   94.62  5.1   0.28]\n",
      " [ 4.28  0.28 88.    7.45]\n",
      " [ 0.83  0.    1.79 97.38]]\n"
     ]
    },
    {
     "data": {
      "image/png": "[encoded data removed]",
      "text/plain": [
       "<Figure size 432x288 with 2 Axes>"
      ]
     },
     "metadata": {},
     "output_type": "display_data"
    }
   ],
   "source": [
    "#plt.figure(dpi=10000)\n",
    "#plt.figure(figsize=(10000, 10000))\n",
    "sns.set()\n",
    "f,ax = plt.subplots()\n",
    "y_true =(target)\n",
    "y_pred = (pred)\n",
    "C2 = confusion_matrix(y_true,y_pred,labels=[0,1,2,3])\n",
    "\n",
    "fm=C2.sum(axis=1)\n",
    "C3=C2/fm*100\n",
    "C3=np.around(C3,decimals=2)\n",
    "\n",
    "print(C3)\n",
    "\n",
    "a=sns.heatmap(C3,annot=True,ax=ax, cmap = 'Blues', fmt='g') #画热力图  , cbar = None\n",
    "\n",
    "#ax.figure.set_size_inches(12,12)\n",
    "ax.set_title('Confusion Matrix') #标题\n",
    "ax.set_xlabel('Predict') #x 轴\n",
    "ax.set_ylabel('True') #y 轴\n",
    "\n",
    "\n",
    "#Normal, Acute, Chronic, Pre-seizure\n",
    "a.set_xticklabels(['Normal','Acute','Chronic','Pre-seizure'])\n",
    "a.set_yticklabels(['Normal','Acute','Chronic','Pre-seizure'])\n",
    "\n",
    "fig = a.get_figure()\n",
    "fig.savefig(\"16F_4C.png\", dpi=1080)"
   ]
  }
 ],
 "metadata": {
  "kernelspec": {
   "display_name": "Python 3 (ipykernel)",
   "language": "python",
   "name": "python3"
  },
  "language_info": {
   "codemirror_mode": {
    "name": "ipython",
    "version": 3
   },
   "file_extension": ".py",
   "mimetype": "text/x-python",
   "name": "python",
   "nbconvert_exporter": "python",
   "pygments_lexer": "ipython3",
   "version": "3.9.12"
  }
 },
 "nbformat": 4,
 "nbformat_minor": 5
}
