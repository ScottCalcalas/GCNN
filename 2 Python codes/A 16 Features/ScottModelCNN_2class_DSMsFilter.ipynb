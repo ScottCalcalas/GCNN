{
 "cells": [
  {
   "cell_type": "markdown",
   "id": "a0a5345e",
   "metadata": {},
   "source": [
    "## Read data"
   ]
  },
  {
   "cell_type": "code",
   "execution_count": 118,
   "id": "2c054139",
   "metadata": {},
   "outputs": [],
   "source": [
    "import numpy as np"
   ]
  },
  {
   "cell_type": "code",
   "execution_count": 119,
   "id": "149e30ba",
   "metadata": {},
   "outputs": [],
   "source": [
    "def rdnumpy(txtname):\n",
    "    f = open(txtname)\n",
    "    line = f.readlines()\n",
    "    lines = len(line)  # row number\n",
    "    for l in line:\n",
    "        le = l.strip('\\n').split(',')\n",
    "        columns = len(le)-1  # col\n",
    "        #print(le)\n",
    "        #print(columns)\n",
    " \n",
    "    A = np.zeros((lines, columns+1), dtype=np.single)\n",
    "    print(\"read lines:\",lines)\n",
    "    print(\"read columns:\",columns+1)\n",
    "    A_row = 0\n",
    "    for lin in line:\n",
    "        #print(A_row)\n",
    "        list = lin.strip('\\n').split(',')\n",
    "        A[A_row:] = list[0:columns+1]\n",
    "        A_row += 1\n",
    "    return A"
   ]
  },
  {
   "cell_type": "markdown",
   "id": "c5cb8413",
   "metadata": {},
   "source": [
    "# Model begin"
   ]
  },
  {
   "cell_type": "code",
   "execution_count": 120,
   "id": "dac0c242",
   "metadata": {},
   "outputs": [],
   "source": [
    "import numpy as np\n",
    "import torch\n",
    "from torch.utils.data import Dataset,DataLoader\n",
    "from torchvision.transforms import ToTensor, ToPILImage, Lambda\n",
    "import matplotlib.pyplot as plt\n",
    "import os\n",
    "import pandas as pd\n",
    "from PIL import Image\n",
    "import os\n",
    "os.environ[\"KMP_DUPLICATE_LIB_OK\"]=\"TRUE\""
   ]
  },
  {
   "cell_type": "markdown",
   "id": "76b00aac",
   "metadata": {},
   "source": [
    "## set the parameters"
   ]
  },
  {
   "cell_type": "code",
   "execution_count": null,
   "id": "3cff3d4c",
   "metadata": {},
   "outputs": [],
   "source": []
  },
  {
   "cell_type": "code",
   "execution_count": 121,
   "id": "dbcea213",
   "metadata": {},
   "outputs": [
    {
     "data": {
      "text/plain": [
       "<torch._C.Generator at 0x1ced1d51410>"
      ]
     },
     "execution_count": 121,
     "metadata": {},
     "output_type": "execute_result"
    }
   ],
   "source": [
    "n_epochs = 3\n",
    "batch_size_train = 16 #32,或者16-由於數據集比較小\n",
    "batch_size_test = 725*2\n",
    "learning_rate = 0.0001 #0.0001\n",
    "momentum = 0.5\n",
    "log_interval = 10\n",
    "random_seed = 1\n",
    "torch.manual_seed(random_seed)"
   ]
  },
  {
   "cell_type": "markdown",
   "id": "108130b9",
   "metadata": {},
   "source": [
    "## data loader"
   ]
  },
  {
   "cell_type": "code",
   "execution_count": 122,
   "id": "be849310",
   "metadata": {},
   "outputs": [],
   "source": [
    "class ScottTrainDataset(Dataset):\n",
    "    def __init__(self, transform=None, target_transform=None):\n",
    "        TrainDataf1=torch.as_tensor(rdnumpy(\"D:\\FYP-HPC\\Data_Python\\CNN_DSMsFilter_16Fea\\MTrainGf1.txt\"))\n",
    "        TrainDataw0=torch.as_tensor(rdnumpy(\"D:\\FYP-HPC\\Data_Python\\CNN_DSMsFilter_16Fea\\MTrainGw0.txt\"))\n",
    "        \n",
    "        self.AllTrainData=torch.cat((TrainDataw0,TrainDataf1),0)\n",
    "        # 定义transform\n",
    "        self.transform = transform\n",
    "        self.target_transform = target_transform\n",
    " \n",
    "    def __len__(self):\n",
    "        '''返回数据集中的样本数'''\n",
    "        return 1725*2\n",
    " \n",
    "    def __getitem__(self, index):#需要第index個的數據\n",
    "        '''获取数据的方法，会和Dataloader连用'''\n",
    "        i=index;        \n",
    "        startRow=i*8;\n",
    "        enRow=(i+1)*8;\n",
    "        nowData=self.AllTrainData[startRow:enRow,2:18]\n",
    "        \n",
    "        nowLabel=1\n",
    "        if index>=1725:\n",
    "            nowLabel=0\n",
    "            \n",
    "        if self.transform:\n",
    "            nowData = self.transform(nowData)\n",
    "        if self.target_transform:\n",
    "            nowLabel = self.target_transform(nowLabel)\n",
    "        '''\n",
    "        if nowLabel==0:\n",
    "            nowLabel = torch.FloatTensor([1, 0])\n",
    "        else:\n",
    "            nowLabel = torch.FloatTensor([0, 1])\n",
    "        '''\n",
    "        return nowData, nowLabel#需要返回數據和標簽"
   ]
  },
  {
   "cell_type": "code",
   "execution_count": null,
   "id": "8776938c",
   "metadata": {},
   "outputs": [],
   "source": []
  },
  {
   "cell_type": "code",
   "execution_count": 123,
   "id": "e72d91db",
   "metadata": {},
   "outputs": [],
   "source": [
    "class ScottTestDataset(Dataset):\n",
    "    def __init__(self, transform=None, target_transform=None):\n",
    "        TestDataf1=torch.as_tensor(rdnumpy(\"D:\\FYP-HPC\\Data_Python\\CNN_DSMsFilter_16Fea\\MTestGf1.txt\"))\n",
    "        TestDataw0=torch.as_tensor(rdnumpy(\"D:\\FYP-HPC\\Data_Python\\CNN_DSMsFilter_16Fea\\MTestGw0.txt\"))\n",
    "        \n",
    "        self.AllTrainData=torch.cat((TestDataw0,TestDataf1),0)\n",
    "        # 定义transform\n",
    "        self.transform = transform\n",
    "        self.target_transform = target_transform\n",
    " \n",
    "    def __len__(self):\n",
    "        '''返回数据集中的样本数'''\n",
    "        return 725*2\n",
    " \n",
    "    def __getitem__(self, index):#需要第index個的數據\n",
    "        '''获取数据的方法，会和Dataloader连用'''\n",
    "        i=index;        \n",
    "        startRow=i*8;\n",
    "        enRow=(i+1)*8;\n",
    "        nowData=self.AllTrainData[startRow:enRow,2:18]\n",
    "        \n",
    "        nowLabel=1\n",
    "        if index>=725:\n",
    "            nowLabel=0\n",
    "            \n",
    "        if self.transform:\n",
    "            nowData = self.transform(nowData)\n",
    "        if self.target_transform:\n",
    "            nowLabel = self.target_transform(nowLabel)\n",
    "            \n",
    "        '''\n",
    "        if nowLabel==0:\n",
    "            nowLabel = torch.FloatTensor([1, 0])\n",
    "        else:\n",
    "            nowLabel = torch.FloatTensor([0, 1])\n",
    "        '''\n",
    "            \n",
    "        return nowData, nowLabel#需要返回數據和標簽"
   ]
  },
  {
   "cell_type": "code",
   "execution_count": 124,
   "id": "ec9b157e",
   "metadata": {},
   "outputs": [
    {
     "name": "stdout",
     "output_type": "stream",
     "text": [
      "read lines: 13800\n",
      "read columns: 19\n",
      "read lines: 13800\n",
      "read columns: 19\n",
      "read lines: 5800\n",
      "read columns: 19\n",
      "read lines: 5800\n",
      "read columns: 19\n"
     ]
    }
   ],
   "source": [
    "train_loader = torch.utils.data.DataLoader(ScottTrainDataset(),\n",
    "    batch_size=batch_size_train, shuffle=True)\n",
    "\n",
    "\n",
    "test_loader = torch.utils.data.DataLoader(ScottTestDataset(),\n",
    "    batch_size=batch_size_test, shuffle=True)"
   ]
  },
  {
   "cell_type": "code",
   "execution_count": 125,
   "id": "b21ed523",
   "metadata": {
    "scrolled": true
   },
   "outputs": [],
   "source": [
    "#for batch_idx, (data, target) in enumerate(train_loader):\n",
    "    #print (batch_idx)\n",
    "    #print(data, target)\n",
    "    #print(target)"
   ]
  },
  {
   "cell_type": "markdown",
   "id": "c6f57885",
   "metadata": {},
   "source": [
    "# Net Work"
   ]
  },
  {
   "cell_type": "code",
   "execution_count": 126,
   "id": "d87d5889",
   "metadata": {},
   "outputs": [
    {
     "data": {
      "text/plain": [
       "6"
      ]
     },
     "execution_count": 126,
     "metadata": {},
     "output_type": "execute_result"
    }
   ],
   "source": [
    "'''\n",
    "#https://zhuanlan.zhihu.com/p/199624393\n",
    "import torch.nn as nn\n",
    "import torch.nn.functional as F\n",
    "import torch.optim as optim\n",
    "\n",
    "class Net(nn.Module):\n",
    "    def __init__(self):\n",
    "        super(Net, self).__init__()\n",
    "        self.conv1 = nn.Conv2d(1, 10, kernel_size=3, padding=1)\n",
    "        self.conv2 = nn.Conv2d(10,20, kernel_size=3, padding=1)\n",
    "        self.conv2_drop = nn.Dropout2d()\n",
    "        self.fc1 = nn.Linear(20*2*4, 30)\n",
    "        self.fc2 = nn.Linear(30, 2)\n",
    "    def forward(self, x):\n",
    "        x = F.relu(F.max_pool2d(self.conv1(x), 2))\n",
    "        x = F.relu(F.max_pool2d(self.conv2(x), 2))\n",
    "        x = x.view(-1, 20*2*4)\n",
    "        x = F.relu(self.fc1(x))\n",
    "        x = F.dropout(x, training=self.training)\n",
    "        x = self.fc2(x)\n",
    "        #return x\n",
    "        return F.log_softmax(x, dim=-1)\n",
    "'''\n",
    "6"
   ]
  },
  {
   "cell_type": "code",
   "execution_count": 127,
   "id": "fb02f281",
   "metadata": {},
   "outputs": [],
   "source": [
    "#https://zhuanlan.zhihu.com/p/199624393\n",
    "import torch.nn as nn\n",
    "import torch.nn.functional as F\n",
    "import torch.optim as optim\n",
    "\n",
    "class Net(nn.Module):\n",
    "    def __init__(self):\n",
    "        super(Net, self).__init__()\n",
    "        self.conv1 = nn.Conv2d(1, 10, kernel_size=3, padding=1)\n",
    "        self.conv2 = nn.Conv2d(10,20, kernel_size=3, padding=1)\n",
    "        self.conv2_drop = nn.Dropout2d()\n",
    "        self.fc1 = nn.Linear(20*2*4, 30)\n",
    "        self.fc2 = nn.Linear(30, 2)\n",
    "    def forward(self, x):\n",
    "        x = F.relu(F.max_pool2d(self.conv1(x), 2))\n",
    "        x = F.relu(F.max_pool2d(self.conv2(x), 2))\n",
    "        x = x.view(-1, 20*2*4)\n",
    "        x = F.relu(self.fc1(x))\n",
    "        x = F.dropout(x, training=self.training)\n",
    "        x = self.fc2(x)\n",
    "        #return x\n",
    "        return F.log_softmax(x, dim=-1)"
   ]
  },
  {
   "cell_type": "code",
   "execution_count": 128,
   "id": "66e12387",
   "metadata": {},
   "outputs": [],
   "source": [
    "network = Net()\n",
    "optimizer = optim.Adam(network.parameters(), lr=learning_rate)"
   ]
  },
  {
   "cell_type": "code",
   "execution_count": 129,
   "id": "da3dfb74",
   "metadata": {},
   "outputs": [],
   "source": [
    "#https://zhuanlan.zhihu.com/p/199624393\n",
    "import torch.nn as nn\n",
    "import torch.nn.functional as F\n",
    "import torch.optim as optim\n",
    "\n",
    "class Net(nn.Module):\n",
    "    def __init__(self):\n",
    "        super(Net, self).__init__()\n",
    "        self.conv1 = nn.Conv2d(1, 20, kernel_size=2, padding=1)\n",
    "        self.conv2 = nn.Conv2d(20,40, kernel_size=2, padding=1)\n",
    "        self.conv2_drop = nn.Dropout2d()\n",
    "        self.fc1 = nn.Linear(320, 60)#60\n",
    "        self.fc2 = nn.Linear(60, 2)\n",
    "    def forward(self, x):\n",
    "        ##print(x)#\n",
    "        #print(x.shape)\n",
    "        x = F.relu(F.max_pool2d(self.conv1(x), 2))\n",
    "        #print(\"relu1:\")\n",
    "        #print(x.shape)\n",
    "        x = F.relu(F.max_pool2d(self.conv2(x), 2))\n",
    "        #print(\"relu2:\")\n",
    "        #print(x.shape)\n",
    "        x = x.view(-1,320)\n",
    "        #print(\"view:\")\n",
    "        #print(x.shape)\n",
    "        x = F.relu(self.fc1(x))\n",
    "        #print(\"relu3:\")\n",
    "        #print(x.shape)\n",
    "        x = F.dropout(x, training=self.training) \n",
    "        #print(\"dropout\")\n",
    "        #print(x.shape)\n",
    "        x = self.fc2(x)\n",
    "        #print(\"FULL con\")\n",
    "        #print(x.shape)\n",
    "        x= F.log_softmax(x, dim=-1)\n",
    "        #print(\"softmax\")\n",
    "        #print(x.shape)\n",
    "        return x\n",
    "        #return F.log_softmax(x, dim=-1)\n",
    "        \n",
    "network = Net()\n",
    "optimizer = optim.Adam(network.parameters(), lr=learning_rate)"
   ]
  },
  {
   "cell_type": "code",
   "execution_count": 130,
   "id": "b08d822e",
   "metadata": {},
   "outputs": [],
   "source": [
    "#help(nn.Conv2d)"
   ]
  },
  {
   "cell_type": "markdown",
   "id": "08b6ad71",
   "metadata": {},
   "source": [
    "# Train"
   ]
  },
  {
   "cell_type": "code",
   "execution_count": 131,
   "id": "a05ffa8d",
   "metadata": {},
   "outputs": [],
   "source": [
    "#print(data)"
   ]
  },
  {
   "cell_type": "code",
   "execution_count": 132,
   "id": "082dbd70",
   "metadata": {
    "scrolled": true
   },
   "outputs": [
    {
     "name": "stdout",
     "output_type": "stream",
     "text": [
      "Train Epoch: 10 [0/3450 (0%)]\tLoss: 6.086843\n",
      "Train Epoch: 10 [160/3450 (5%)]\tLoss: 0.961436\n",
      "Train Epoch: 10 [320/3450 (9%)]\tLoss: 0.228791\n",
      "Train Epoch: 10 [480/3450 (14%)]\tLoss: 0.070661\n",
      "Train Epoch: 10 [640/3450 (19%)]\tLoss: 0.046323\n",
      "Train Epoch: 10 [800/3450 (23%)]\tLoss: 0.020476\n",
      "Train Epoch: 10 [960/3450 (28%)]\tLoss: 0.045788\n",
      "Train Epoch: 10 [1120/3450 (32%)]\tLoss: 0.090380\n",
      "Train Epoch: 10 [1280/3450 (37%)]\tLoss: 0.012134\n",
      "Train Epoch: 10 [1440/3450 (42%)]\tLoss: 0.009214\n",
      "Train Epoch: 10 [1600/3450 (46%)]\tLoss: 0.015368\n",
      "Train Epoch: 10 [1760/3450 (51%)]\tLoss: 0.001870\n",
      "Train Epoch: 10 [1920/3450 (56%)]\tLoss: 0.005040\n",
      "Train Epoch: 10 [2080/3450 (60%)]\tLoss: 0.007315\n",
      "Train Epoch: 10 [2240/3450 (65%)]\tLoss: 0.019092\n",
      "Train Epoch: 10 [2400/3450 (69%)]\tLoss: 0.003692\n",
      "Train Epoch: 10 [2560/3450 (74%)]\tLoss: 0.084701\n",
      "Train Epoch: 10 [2720/3450 (79%)]\tLoss: 0.017488\n",
      "Train Epoch: 10 [2880/3450 (83%)]\tLoss: 0.023945\n",
      "Train Epoch: 10 [3040/3450 (88%)]\tLoss: 0.003752\n",
      "Train Epoch: 10 [3200/3450 (93%)]\tLoss: 0.008234\n",
      "Train Epoch: 10 [3360/3450 (97%)]\tLoss: 0.003740\n",
      "Train Epoch: 10 [0/3450 (0%)]\tLoss: 0.005260\n",
      "Train Epoch: 10 [160/3450 (5%)]\tLoss: 0.006733\n",
      "Train Epoch: 10 [320/3450 (9%)]\tLoss: 0.025848\n",
      "Train Epoch: 10 [480/3450 (14%)]\tLoss: 0.003874\n",
      "Train Epoch: 10 [640/3450 (19%)]\tLoss: 0.006183\n",
      "Train Epoch: 10 [800/3450 (23%)]\tLoss: 0.001364\n",
      "Train Epoch: 10 [960/3450 (28%)]\tLoss: 26.116354\n",
      "Train Epoch: 10 [1120/3450 (32%)]\tLoss: 0.006191\n",
      "Train Epoch: 10 [1280/3450 (37%)]\tLoss: 0.003633\n",
      "Train Epoch: 10 [1440/3450 (42%)]\tLoss: 0.143631\n",
      "Train Epoch: 10 [1600/3450 (46%)]\tLoss: 0.000865\n",
      "Train Epoch: 10 [1760/3450 (51%)]\tLoss: 0.004597\n",
      "Train Epoch: 10 [1920/3450 (56%)]\tLoss: 0.012345\n",
      "Train Epoch: 10 [2080/3450 (60%)]\tLoss: 0.010053\n",
      "Train Epoch: 10 [2240/3450 (65%)]\tLoss: 0.024369\n",
      "Train Epoch: 10 [2400/3450 (69%)]\tLoss: 0.005764\n",
      "Train Epoch: 10 [2560/3450 (74%)]\tLoss: 0.001843\n",
      "Train Epoch: 10 [2720/3450 (79%)]\tLoss: 0.001576\n",
      "Train Epoch: 10 [2880/3450 (83%)]\tLoss: 0.090385\n",
      "Train Epoch: 10 [3040/3450 (88%)]\tLoss: 0.001418\n",
      "Train Epoch: 10 [3200/3450 (93%)]\tLoss: 0.003131\n",
      "Train Epoch: 10 [3360/3450 (97%)]\tLoss: 0.008110\n",
      "Train Epoch: 10 [0/3450 (0%)]\tLoss: 0.005455\n",
      "Train Epoch: 10 [160/3450 (5%)]\tLoss: 0.004147\n",
      "Train Epoch: 10 [320/3450 (9%)]\tLoss: 0.009180\n",
      "Train Epoch: 10 [480/3450 (14%)]\tLoss: 0.002074\n",
      "Train Epoch: 10 [640/3450 (19%)]\tLoss: 0.003720\n",
      "Train Epoch: 10 [800/3450 (23%)]\tLoss: 0.000915\n",
      "Train Epoch: 10 [960/3450 (28%)]\tLoss: 0.000109\n",
      "Train Epoch: 10 [1120/3450 (32%)]\tLoss: 0.000454\n",
      "Train Epoch: 10 [1280/3450 (37%)]\tLoss: 0.059937\n",
      "Train Epoch: 10 [1440/3450 (42%)]\tLoss: 0.043898\n",
      "Train Epoch: 10 [1600/3450 (46%)]\tLoss: 0.001897\n",
      "Train Epoch: 10 [1760/3450 (51%)]\tLoss: 0.004178\n",
      "Train Epoch: 10 [1920/3450 (56%)]\tLoss: 0.001149\n",
      "Train Epoch: 10 [2080/3450 (60%)]\tLoss: 0.003555\n",
      "Train Epoch: 10 [2240/3450 (65%)]\tLoss: 0.021117\n",
      "Train Epoch: 10 [2400/3450 (69%)]\tLoss: 0.002541\n",
      "Train Epoch: 10 [2560/3450 (74%)]\tLoss: 0.018337\n",
      "Train Epoch: 10 [2720/3450 (79%)]\tLoss: 0.010303\n",
      "Train Epoch: 10 [2880/3450 (83%)]\tLoss: 0.665625\n",
      "Train Epoch: 10 [3040/3450 (88%)]\tLoss: 0.003458\n",
      "Train Epoch: 10 [3200/3450 (93%)]\tLoss: 0.003513\n",
      "Train Epoch: 10 [3360/3450 (97%)]\tLoss: 0.002689\n",
      "Train Epoch: 10 [0/3450 (0%)]\tLoss: 0.001986\n",
      "Train Epoch: 10 [160/3450 (5%)]\tLoss: 0.098724\n",
      "Train Epoch: 10 [320/3450 (9%)]\tLoss: 0.000799\n",
      "Train Epoch: 10 [480/3450 (14%)]\tLoss: 0.007897\n",
      "Train Epoch: 10 [640/3450 (19%)]\tLoss: 0.001053\n",
      "Train Epoch: 10 [800/3450 (23%)]\tLoss: 0.032040\n",
      "Train Epoch: 10 [960/3450 (28%)]\tLoss: 0.003824\n",
      "Train Epoch: 10 [1120/3450 (32%)]\tLoss: 0.003816\n",
      "Train Epoch: 10 [1280/3450 (37%)]\tLoss: 0.002850\n",
      "Train Epoch: 10 [1440/3450 (42%)]\tLoss: 0.003319\n",
      "Train Epoch: 10 [1600/3450 (46%)]\tLoss: 0.011246\n",
      "Train Epoch: 10 [1760/3450 (51%)]\tLoss: 0.040200\n",
      "Train Epoch: 10 [1920/3450 (56%)]\tLoss: 0.001649\n",
      "Train Epoch: 10 [2080/3450 (60%)]\tLoss: 0.003272\n",
      "Train Epoch: 10 [2240/3450 (65%)]\tLoss: 0.000840\n",
      "Train Epoch: 10 [2400/3450 (69%)]\tLoss: 0.009126\n",
      "Train Epoch: 10 [2560/3450 (74%)]\tLoss: 0.003037\n",
      "Train Epoch: 10 [2720/3450 (79%)]\tLoss: 0.012255\n",
      "Train Epoch: 10 [2880/3450 (83%)]\tLoss: 0.005308\n",
      "Train Epoch: 10 [3040/3450 (88%)]\tLoss: 0.003374\n",
      "Train Epoch: 10 [3200/3450 (93%)]\tLoss: 0.000088\n",
      "Train Epoch: 10 [3360/3450 (97%)]\tLoss: 0.000368\n",
      "Train Epoch: 10 [0/3450 (0%)]\tLoss: 0.041634\n",
      "Train Epoch: 10 [160/3450 (5%)]\tLoss: 0.136449\n",
      "Train Epoch: 10 [320/3450 (9%)]\tLoss: 0.016539\n",
      "Train Epoch: 10 [480/3450 (14%)]\tLoss: 0.002007\n",
      "Train Epoch: 10 [640/3450 (19%)]\tLoss: 0.374907\n",
      "Train Epoch: 10 [800/3450 (23%)]\tLoss: 0.018451\n",
      "Train Epoch: 10 [960/3450 (28%)]\tLoss: 0.000524\n",
      "Train Epoch: 10 [1120/3450 (32%)]\tLoss: 0.011310\n",
      "Train Epoch: 10 [1280/3450 (37%)]\tLoss: 0.003243\n",
      "Train Epoch: 10 [1440/3450 (42%)]\tLoss: 0.008326\n",
      "Train Epoch: 10 [1600/3450 (46%)]\tLoss: 0.000600\n",
      "Train Epoch: 10 [1760/3450 (51%)]\tLoss: 0.002337\n",
      "Train Epoch: 10 [1920/3450 (56%)]\tLoss: 0.003728\n",
      "Train Epoch: 10 [2080/3450 (60%)]\tLoss: 0.004217\n",
      "Train Epoch: 10 [2240/3450 (65%)]\tLoss: 0.000607\n",
      "Train Epoch: 10 [2400/3450 (69%)]\tLoss: 0.004910\n",
      "Train Epoch: 10 [2560/3450 (74%)]\tLoss: 0.772795\n",
      "Train Epoch: 10 [2720/3450 (79%)]\tLoss: 0.004526\n",
      "Train Epoch: 10 [2880/3450 (83%)]\tLoss: 0.001793\n",
      "Train Epoch: 10 [3040/3450 (88%)]\tLoss: 0.001886\n",
      "Train Epoch: 10 [3200/3450 (93%)]\tLoss: 0.004401\n",
      "Train Epoch: 10 [3360/3450 (97%)]\tLoss: 0.008045\n",
      "Train Epoch: 10 [0/3450 (0%)]\tLoss: 0.003280\n",
      "Train Epoch: 10 [160/3450 (5%)]\tLoss: 0.112127\n",
      "Train Epoch: 10 [320/3450 (9%)]\tLoss: 0.001255\n",
      "Train Epoch: 10 [480/3450 (14%)]\tLoss: 0.002155\n",
      "Train Epoch: 10 [640/3450 (19%)]\tLoss: 0.001643\n",
      "Train Epoch: 10 [800/3450 (23%)]\tLoss: 0.005130\n",
      "Train Epoch: 10 [960/3450 (28%)]\tLoss: 0.001417\n",
      "Train Epoch: 10 [1120/3450 (32%)]\tLoss: 0.049559\n",
      "Train Epoch: 10 [1280/3450 (37%)]\tLoss: 0.000948\n",
      "Train Epoch: 10 [1440/3450 (42%)]\tLoss: 0.005413\n",
      "Train Epoch: 10 [1600/3450 (46%)]\tLoss: 0.002439\n",
      "Train Epoch: 10 [1760/3450 (51%)]\tLoss: 0.001006\n",
      "Train Epoch: 10 [1920/3450 (56%)]\tLoss: 0.000731\n",
      "Train Epoch: 10 [2080/3450 (60%)]\tLoss: 0.000537\n",
      "Train Epoch: 10 [2240/3450 (65%)]\tLoss: 0.008700\n",
      "Train Epoch: 10 [2400/3450 (69%)]\tLoss: 9.573277\n",
      "Train Epoch: 10 [2560/3450 (74%)]\tLoss: 0.017517\n",
      "Train Epoch: 10 [2720/3450 (79%)]\tLoss: 0.037312\n",
      "Train Epoch: 10 [2880/3450 (83%)]\tLoss: 0.000620\n",
      "Train Epoch: 10 [3040/3450 (88%)]\tLoss: 0.010860\n",
      "Train Epoch: 10 [3200/3450 (93%)]\tLoss: 0.026828\n",
      "Train Epoch: 10 [3360/3450 (97%)]\tLoss: 0.011208\n",
      "Train Epoch: 10 [0/3450 (0%)]\tLoss: 0.012651\n",
      "Train Epoch: 10 [160/3450 (5%)]\tLoss: 0.013359\n",
      "Train Epoch: 10 [320/3450 (9%)]\tLoss: 0.008075\n",
      "Train Epoch: 10 [480/3450 (14%)]\tLoss: 0.000859\n",
      "Train Epoch: 10 [640/3450 (19%)]\tLoss: 0.012628\n",
      "Train Epoch: 10 [800/3450 (23%)]\tLoss: 0.008431\n",
      "Train Epoch: 10 [960/3450 (28%)]\tLoss: 0.006976\n",
      "Train Epoch: 10 [1120/3450 (32%)]\tLoss: 0.003123\n",
      "Train Epoch: 10 [1280/3450 (37%)]\tLoss: 0.065378\n",
      "Train Epoch: 10 [1440/3450 (42%)]\tLoss: 0.004961\n",
      "Train Epoch: 10 [1600/3450 (46%)]\tLoss: 0.003666\n",
      "Train Epoch: 10 [1760/3450 (51%)]\tLoss: 0.011594\n",
      "Train Epoch: 10 [1920/3450 (56%)]\tLoss: 0.018000\n",
      "Train Epoch: 10 [2080/3450 (60%)]\tLoss: 0.000509\n",
      "Train Epoch: 10 [2240/3450 (65%)]\tLoss: 0.013156\n",
      "Train Epoch: 10 [2400/3450 (69%)]\tLoss: 0.002726\n",
      "Train Epoch: 10 [2560/3450 (74%)]\tLoss: 0.000919\n",
      "Train Epoch: 10 [2720/3450 (79%)]\tLoss: 0.037315\n",
      "Train Epoch: 10 [2880/3450 (83%)]\tLoss: 0.004139\n",
      "Train Epoch: 10 [3040/3450 (88%)]\tLoss: 0.004372\n",
      "Train Epoch: 10 [3200/3450 (93%)]\tLoss: 0.018255\n",
      "Train Epoch: 10 [3360/3450 (97%)]\tLoss: 0.062498\n",
      "Train Epoch: 10 [0/3450 (0%)]\tLoss: 0.042542\n",
      "Train Epoch: 10 [160/3450 (5%)]\tLoss: 0.187540\n",
      "Train Epoch: 10 [320/3450 (9%)]\tLoss: 0.001603\n",
      "Train Epoch: 10 [480/3450 (14%)]\tLoss: 0.006539\n",
      "Train Epoch: 10 [640/3450 (19%)]\tLoss: 0.024833\n",
      "Train Epoch: 10 [800/3450 (23%)]\tLoss: 0.016528\n",
      "Train Epoch: 10 [960/3450 (28%)]\tLoss: 0.000142\n",
      "Train Epoch: 10 [1120/3450 (32%)]\tLoss: 0.000541\n",
      "Train Epoch: 10 [1280/3450 (37%)]\tLoss: 0.013325\n",
      "Train Epoch: 10 [1440/3450 (42%)]\tLoss: 0.003736\n",
      "Train Epoch: 10 [1600/3450 (46%)]\tLoss: 0.005423\n",
      "Train Epoch: 10 [1760/3450 (51%)]\tLoss: 0.000977\n",
      "Train Epoch: 10 [1920/3450 (56%)]\tLoss: 0.000860\n",
      "Train Epoch: 10 [2080/3450 (60%)]\tLoss: 0.000904\n",
      "Train Epoch: 10 [2240/3450 (65%)]\tLoss: 0.044190\n",
      "Train Epoch: 10 [2400/3450 (69%)]\tLoss: 0.000760\n",
      "Train Epoch: 10 [2560/3450 (74%)]\tLoss: 0.000319\n"
     ]
    },
    {
     "name": "stdout",
     "output_type": "stream",
     "text": [
      "Train Epoch: 10 [2720/3450 (79%)]\tLoss: 0.005507\n",
      "Train Epoch: 10 [2880/3450 (83%)]\tLoss: 0.442014\n",
      "Train Epoch: 10 [3040/3450 (88%)]\tLoss: 0.001378\n",
      "Train Epoch: 10 [3200/3450 (93%)]\tLoss: 0.004072\n",
      "Train Epoch: 10 [3360/3450 (97%)]\tLoss: 0.000159\n",
      "Train Epoch: 10 [0/3450 (0%)]\tLoss: 0.000618\n",
      "Train Epoch: 10 [160/3450 (5%)]\tLoss: 0.017304\n",
      "Train Epoch: 10 [320/3450 (9%)]\tLoss: 0.000285\n",
      "Train Epoch: 10 [480/3450 (14%)]\tLoss: 0.000260\n",
      "Train Epoch: 10 [640/3450 (19%)]\tLoss: 0.001603\n",
      "Train Epoch: 10 [800/3450 (23%)]\tLoss: 0.000730\n",
      "Train Epoch: 10 [960/3450 (28%)]\tLoss: 0.001167\n",
      "Train Epoch: 10 [1120/3450 (32%)]\tLoss: 0.019825\n",
      "Train Epoch: 10 [1280/3450 (37%)]\tLoss: 0.001022\n",
      "Train Epoch: 10 [1440/3450 (42%)]\tLoss: 0.000119\n",
      "Train Epoch: 10 [1600/3450 (46%)]\tLoss: 0.000069\n",
      "Train Epoch: 10 [1760/3450 (51%)]\tLoss: 0.026027\n",
      "Train Epoch: 10 [1920/3450 (56%)]\tLoss: 0.000539\n",
      "Train Epoch: 10 [2080/3450 (60%)]\tLoss: 0.004526\n",
      "Train Epoch: 10 [2240/3450 (65%)]\tLoss: 0.001220\n",
      "Train Epoch: 10 [2400/3450 (69%)]\tLoss: 0.000256\n",
      "Train Epoch: 10 [2560/3450 (74%)]\tLoss: 0.001097\n",
      "Train Epoch: 10 [2720/3450 (79%)]\tLoss: 0.000423\n",
      "Train Epoch: 10 [2880/3450 (83%)]\tLoss: 0.000887\n",
      "Train Epoch: 10 [3040/3450 (88%)]\tLoss: 0.000288\n",
      "Train Epoch: 10 [3200/3450 (93%)]\tLoss: 0.000118\n",
      "Train Epoch: 10 [3360/3450 (97%)]\tLoss: 0.001212\n",
      "Train Epoch: 10 [0/3450 (0%)]\tLoss: 0.000394\n",
      "Train Epoch: 10 [160/3450 (5%)]\tLoss: 0.061607\n",
      "Train Epoch: 10 [320/3450 (9%)]\tLoss: 0.016874\n",
      "Train Epoch: 10 [480/3450 (14%)]\tLoss: 0.000533\n",
      "Train Epoch: 10 [640/3450 (19%)]\tLoss: 0.011687\n",
      "Train Epoch: 10 [800/3450 (23%)]\tLoss: 0.001366\n",
      "Train Epoch: 10 [960/3450 (28%)]\tLoss: 0.001165\n",
      "Train Epoch: 10 [1120/3450 (32%)]\tLoss: 0.000593\n",
      "Train Epoch: 10 [1280/3450 (37%)]\tLoss: 0.001914\n",
      "Train Epoch: 10 [1440/3450 (42%)]\tLoss: 0.009194\n",
      "Train Epoch: 10 [1600/3450 (46%)]\tLoss: 0.000137\n",
      "Train Epoch: 10 [1760/3450 (51%)]\tLoss: 0.000142\n",
      "Train Epoch: 10 [1920/3450 (56%)]\tLoss: 0.001703\n",
      "Train Epoch: 10 [2080/3450 (60%)]\tLoss: 0.001518\n",
      "Train Epoch: 10 [2240/3450 (65%)]\tLoss: 1.774357\n",
      "Train Epoch: 10 [2400/3450 (69%)]\tLoss: 0.000419\n",
      "Train Epoch: 10 [2560/3450 (74%)]\tLoss: 0.001608\n",
      "Train Epoch: 10 [2720/3450 (79%)]\tLoss: 0.000532\n",
      "Train Epoch: 10 [2880/3450 (83%)]\tLoss: 0.002622\n",
      "Train Epoch: 10 [3040/3450 (88%)]\tLoss: 0.000111\n",
      "Train Epoch: 10 [3200/3450 (93%)]\tLoss: 0.000199\n",
      "Train Epoch: 10 [3360/3450 (97%)]\tLoss: 0.033674\n"
     ]
    }
   ],
   "source": [
    "train_losses = []\n",
    "train_counter = []\n",
    "\n",
    "def train(epoch):\n",
    "  for _ in range(epoch):\n",
    "      network.train()\n",
    "      for batch_idx, (data, target) in enumerate(train_loader):\n",
    "        if batch_idx>1920 and batch_idx<1920+320: continue\n",
    "        optimizer.zero_grad()\n",
    "        data = data.unsqueeze(1)\n",
    "        output = network(data)\n",
    "        #print(target.shape, target, output)\n",
    "        #assert 1==0\n",
    "        # loss = F.binary_cross_entropy_with_logits(output, target)\n",
    "        loss = F.nll_loss(output, target)\n",
    "        loss.backward()\n",
    "        optimizer.step()\n",
    "\n",
    "        '''\n",
    "        print(torch.isnan(data).sum(), (target==1).sum()+(target==0).sum())\n",
    "        assert (target==1).sum()+(target==0).sum()==16\n",
    "        print(torch.isnan(data).sum(), target.shape, target, output)\n",
    "        if torch.isnan(output).sum()!=0:\n",
    "            print(data, target, torch.isnan(data).sum())\n",
    "            print(data[-5])\n",
    "        assert torch.isnan(output).sum()==0\n",
    "        assert torch.isnan(loss).sum()==0\n",
    "        '''\n",
    "        if batch_idx % log_interval == 0:\n",
    "          #print(torch.isnan(data).sum(), target.shape, target, output)\n",
    "          print('Train Epoch: {} [{}/{} ({:.0f}%)]\\tLoss: {:.6f}'.format(\n",
    "            epoch, batch_idx * len(data), len(train_loader.dataset),\n",
    "            100. * batch_idx / len(train_loader), loss.item()))\n",
    "          train_losses.append(loss.item())\n",
    "          train_counter.append(\n",
    "            (batch_idx*64) + ((epoch-1)*len(train_loader.dataset)))\n",
    "          torch.save(network.state_dict(), './model.pth')\n",
    "          torch.save(optimizer.state_dict(), './optimizer.pth')\n",
    "    \n",
    "train(10)"
   ]
  },
  {
   "cell_type": "code",
   "execution_count": 133,
   "id": "112e1862",
   "metadata": {},
   "outputs": [
    {
     "data": {
      "image/png": "[encoded data removed]",
      "text/plain": [
       "<Figure size 432x288 with 1 Axes>"
      ]
     },
     "metadata": {},
     "output_type": "display_data"
    }
   ],
   "source": [
    "import os\n",
    "os.environ[\"KMP_DUPLICATE_LIB_OK\"]=\"TRUE\"\n",
    "import matplotlib.pyplot as plt\n",
    "\n",
    "plt.plot(list(range(len(train_losses))), train_losses)\n",
    "plt.show()"
   ]
  },
  {
   "cell_type": "code",
   "execution_count": 134,
   "id": "b2ac4613",
   "metadata": {},
   "outputs": [],
   "source": [
    "\n",
    "test_counter = [i*len(train_loader.dataset) for i in range(n_epochs + 1)]          \n"
   ]
  },
  {
   "cell_type": "markdown",
   "id": "65c0a8e7",
   "metadata": {},
   "source": []
  },
  {
   "cell_type": "code",
   "execution_count": 135,
   "id": "99590466",
   "metadata": {
    "scrolled": true
   },
   "outputs": [
    {
     "data": {
      "text/plain": [
       "\"\\nfor p in network.parameters():\\n    print(p)\\n    break\\ntmp = torch.load('./model.pth')\\nnetwork.load_state_dict(tmp)\\nfor p in network.parameters():\\n    print(p)\\n    break\\n\""
      ]
     },
     "execution_count": 135,
     "metadata": {},
     "output_type": "execute_result"
    }
   ],
   "source": [
    "'''\n",
    "for p in network.parameters():\n",
    "    print(p)\n",
    "    break\n",
    "tmp = torch.load('./model.pth')\n",
    "network.load_state_dict(tmp)\n",
    "for p in network.parameters():\n",
    "    print(p)\n",
    "    break\n",
    "'''"
   ]
  },
  {
   "cell_type": "code",
   "execution_count": 136,
   "id": "a887d967",
   "metadata": {
    "scrolled": true
   },
   "outputs": [
    {
     "name": "stdout",
     "output_type": "stream",
     "text": [
      "\n",
      "Test set: Avg. loss: 0.3136, Accuracy: 1363/1450 (94%)\n",
      "\n"
     ]
    },
    {
     "name": "stderr",
     "output_type": "stream",
     "text": [
      "C:\\Users\\PCI\\anaconda3\\lib\\site-packages\\torch\\nn\\_reduction.py:42: UserWarning: size_average and reduce args will be deprecated, please use reduction='sum' instead.\n",
      "  warnings.warn(warning.format(ret))\n"
     ]
    }
   ],
   "source": [
    "test_losses = []\n",
    "test_counter = [i*len(train_loader.dataset) for i in range(n_epochs + 1)]\n",
    "def test():\n",
    "  network.eval()\n",
    "  test_loss = 0\n",
    "  correct = 0\n",
    "  with torch.no_grad():\n",
    "    for data, target in test_loader:\n",
    "      data = data.unsqueeze(1)\n",
    "      output = network(data)\n",
    "      test_loss += F.nll_loss(output, target, size_average=False).item()\n",
    "      pred = output.data.max(1, keepdim=True)[1]\n",
    "      #print(pred)\n",
    "      correct += pred.eq(target.data.view_as(pred)).sum()\n",
    "      \n",
    "  test_loss /= len(test_loader.dataset)\n",
    "  test_losses.append(test_loss)\n",
    "  print('\\nTest set: Avg. loss: {:.4f}, Accuracy: {}/{} ({:.0f}%)\\n'.format(\n",
    "    test_loss, correct, len(test_loader.dataset),\n",
    "    100. * correct / len(test_loader.dataset)))\n",
    "    \n",
    "test()"
   ]
  },
  {
   "cell_type": "code",
   "execution_count": 137,
   "id": "0d787ce2",
   "metadata": {},
   "outputs": [
    {
     "name": "stdout",
     "output_type": "stream",
     "text": [
      "\n",
      "Test set: Avg. loss: 0.3136, Accuracy: 1363/1450 (94%)\n",
      "\n"
     ]
    }
   ],
   "source": [
    "  import scipy.io as io\n",
    "  test_losses = []\n",
    "  test_counter = [i*len(train_loader.dataset) for i in range(n_epochs + 1)]\n",
    "  network.eval()\n",
    "  test_loss = 0\n",
    "  correct = 0\n",
    "  with torch.no_grad():\n",
    "    for data, target in test_loader:\n",
    "      data = data.unsqueeze(1)\n",
    "      #print(\"data:\")\n",
    "      #print(data.shape)\n",
    "      output = network(data)\n",
    "      #print(\"output:\")\n",
    "      #print(output.shape)\n",
    "      \n",
    "      test_loss += F.nll_loss(output, target, size_average=False).item()\n",
    "      #print(output)\n",
    "      pred = output.data.max(1, keepdim=True)[1]\n",
    "      #print(pred)##\n",
    "      #print(target)\n",
    "      result1 = np.array(pred)\n",
    "      np.savetxt('pred.txt',result1)\n",
    "      result2 = np.array(target)\n",
    "      np.savetxt('target.txt',result2)\n",
    "      \n",
    "      #Save done\n",
    "      correct += pred.eq(target.data.view_as(pred)).sum()\n",
    "      \n",
    "  test_loss /= len(test_loader.dataset)\n",
    "  test_losses.append(test_loss)\n",
    "  print('\\nTest set: Avg. loss: {:.4f}, Accuracy: {}/{} ({:.0f}%)\\n'.format(\n",
    "    test_loss, correct, len(test_loader.dataset),\n",
    "    100. * correct / len(test_loader.dataset)))"
   ]
  },
  {
   "cell_type": "code",
   "execution_count": 138,
   "id": "8033bab0",
   "metadata": {},
   "outputs": [
    {
     "data": {
      "text/plain": [
       "\"\\nfor epoch in range(1, n_epochs + 1):\\n  train(epoch)\\n  test()\\nimport matplotlib.pyplot as plt\\nfig = plt.figure()\\nplt.plot(train_counter, train_losses, color='blue')\\nplt.scatter(test_counter, test_losses, color='red')\\nplt.legend(['Train Loss', 'Test Loss'], loc='upper right')\\nplt.xlabel('number of training examples seen')\\nplt.ylabel('negative log likelihood loss')\\nplt.show()\\n\""
      ]
     },
     "execution_count": 138,
     "metadata": {},
     "output_type": "execute_result"
    }
   ],
   "source": [
    "'''\n",
    "for epoch in range(1, n_epochs + 1):\n",
    "  train(epoch)\n",
    "  test()\n",
    "import matplotlib.pyplot as plt\n",
    "fig = plt.figure()\n",
    "plt.plot(train_counter, train_losses, color='blue')\n",
    "plt.scatter(test_counter, test_losses, color='red')\n",
    "plt.legend(['Train Loss', 'Test Loss'], loc='upper right')\n",
    "plt.xlabel('number of training examples seen')\n",
    "plt.ylabel('negative log likelihood loss')\n",
    "plt.show()\n",
    "'''"
   ]
  },
  {
   "cell_type": "code",
   "execution_count": 139,
   "id": "8837deba",
   "metadata": {
    "scrolled": true
   },
   "outputs": [
    {
     "name": "stdout",
     "output_type": "stream",
     "text": [
      "[[638  87]\n",
      " [  0 725]]\n"
     ]
    },
    {
     "data": {
      "text/plain": [
       "[Text(0, 0.5, 'Normal'), Text(0, 1.5, 'Acute')]"
      ]
     },
     "execution_count": 139,
     "metadata": {},
     "output_type": "execute_result"
    },
    {
     "data": {
      "image/png": "[encoded data removed]",
      "text/plain": [
       "<Figure size 432x288 with 2 Axes>"
      ]
     },
     "metadata": {},
     "output_type": "display_data"
    }
   ],
   "source": [
    "import seaborn as sns\n",
    "from sklearn.metrics import confusion_matrix\n",
    "import matplotlib.pyplot as plt\n",
    "\n",
    "sns.set()\n",
    "f,ax = plt.subplots()\n",
    "y_true =(target)\n",
    "y_pred = (pred)\n",
    "C2 = confusion_matrix(y_true,y_pred,labels=[0,1])\n",
    "#打印 C2\n",
    "\n",
    "print(C2)\n",
    "a=sns.heatmap(C2,annot=True,ax=ax, cmap = 'Blues', fmt='g') #画热力图  , cbar = None\n",
    "\n",
    "ax.set_title('Confusion Matrix') #标题\n",
    "ax.set_xlabel('Predict') #x 轴\n",
    "ax.set_ylabel('True') #y 轴\n",
    "\n",
    "#Normal, Acute, Chronic, Pre-seizure\n",
    "a.set_xticklabels(['Normal','Acute'])\n",
    "a.set_yticklabels(['Normal','Acute'])"
   ]
  },
  {
   "cell_type": "code",
   "execution_count": 140,
   "id": "d2a84db5",
   "metadata": {},
   "outputs": [
    {
     "name": "stdout",
     "output_type": "stream",
     "text": [
      "0.939783219590526\n",
      "0.939783219590526\n"
     ]
    }
   ],
   "source": [
    "from sklearn.metrics import f1_score\n",
    " \n",
    "y_true = target\n",
    "y_pred = pred\n",
    " \n",
    "print(f1_score(y_true, y_pred, average='weighted'))# unbalance F1\n",
    "print(f1_score(y_true, y_pred, average='macro'))"
   ]
  },
  {
   "cell_type": "code",
   "execution_count": 141,
   "id": "f43c40a5",
   "metadata": {},
   "outputs": [
    {
     "name": "stdout",
     "output_type": "stream",
     "text": [
      "[[ 88.  12.]\n",
      " [  0. 100.]]\n"
     ]
    },
    {
     "data": {
      "image/png": "[encoded data removed]",
      "text/plain": [
       "<Figure size 432x288 with 2 Axes>"
      ]
     },
     "metadata": {},
     "output_type": "display_data"
    }
   ],
   "source": [
    "\n",
    "sns.set()\n",
    "f,ax = plt.subplots()\n",
    "y_true =(target)\n",
    "y_pred = (pred)\n",
    "C2 = confusion_matrix(y_true,y_pred,labels=[0,1])\n",
    "\n",
    "fm=C2.sum(axis=1)\n",
    "C3=C2/fm*100\n",
    "C3=np.around(C3,decimals=2)\n",
    "\n",
    "print(C3)\n",
    "a=sns.heatmap(C3,annot=True,ax=ax, cmap = 'Blues', fmt='g') #画热力图  , cbar = None\n",
    "\n",
    "ax.set_title('Confusion Matrix') #标题\n",
    "ax.set_xlabel('Predict') #x 轴\n",
    "ax.set_ylabel('True') #y 轴\n",
    "\n",
    "\n",
    "#Normal, Acute, Chronic, Pre-seizure\n",
    "a.set_xticklabels(['Normal','Acute'])\n",
    "a.set_yticklabels(['Normal','Acute'])\n",
    "\n",
    "fig = a.get_figure()\n",
    "fig.savefig(\"16F_2C.png\", dpi=1080)"
   ]
  }
 ],
 "metadata": {
  "kernelspec": {
   "display_name": "Python 3 (ipykernel)",
   "language": "python",
   "name": "python3"
  },
  "language_info": {
   "codemirror_mode": {
    "name": "ipython",
    "version": 3
   },
   "file_extension": ".py",
   "mimetype": "text/x-python",
   "name": "python",
   "nbconvert_exporter": "python",
   "pygments_lexer": "ipython3",
   "version": "3.9.12"
  }
 },
 "nbformat": 4,
 "nbformat_minor": 5
}
